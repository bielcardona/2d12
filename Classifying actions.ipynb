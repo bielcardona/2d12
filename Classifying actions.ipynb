{
 "cells": [
  {
   "cell_type": "code",
   "execution_count": 3,
   "metadata": {},
   "outputs": [
    {
     "data": {
      "text/plain": [
       "<group of size 2 with 1 generators>"
      ]
     },
     "execution_count": 1,
     "metadata": {
      "text/plain": ""
     },
     "output_type": "execute_result"
    },
    {
     "data": {
      "text/plain": [
       "<group of size 2 with 1 generators>"
      ]
     },
     "execution_count": 2,
     "metadata": {
      "text/plain": ""
     },
     "output_type": "execute_result"
    },
    {
     "data": {
      "text/plain": [
       "<group of size 6 with 2 generators>"
      ]
     },
     "execution_count": 3,
     "metadata": {
      "text/plain": ""
     },
     "output_type": "execute_result"
    }
   ],
   "source": [
    "C2A := CyclicGroup(2);\n",
    "C2B := CyclicGroup(2);\n",
    "D6 := DihedralGroup(6);"
   ]
  },
  {
   "cell_type": "code",
   "execution_count": 4,
   "metadata": {},
   "outputs": [
    {
     "data": {
      "text/plain": [
       "<group of size 24 with 4 generators>"
      ]
     },
     "execution_count": 4,
     "metadata": {
      "text/plain": ""
     },
     "output_type": "execute_result"
    }
   ],
   "source": [
    "AutA := DirectProduct(C2A,C2B,D6);"
   ]
  },
  {
   "cell_type": "code",
   "execution_count": 6,
   "metadata": {},
   "outputs": [
    {
     "data": {
      "text/plain": [
       "[ f1, f2, f3, f4 ]"
      ]
     },
     "execution_count": 5,
     "metadata": {
      "text/plain": ""
     },
     "output_type": "execute_result"
    },
    {
     "data": {
      "text/plain": [
       "[ 2, 2, 2, 3 ]"
      ]
     },
     "execution_count": 6,
     "metadata": {
      "text/plain": ""
     },
     "output_type": "execute_result"
    }
   ],
   "source": [
    "GeneratorsOfGroup(AutA);\n",
    "List(GeneratorsOfGroup(AutA),Order);"
   ]
  },
  {
   "cell_type": "code",
   "execution_count": 9,
   "metadata": {},
   "outputs": [
    {
     "data": {
      "text/plain": [
       "[ <identity> of ..., f4, f4^2, f3, f3*f4, f3*f4^2, f2, f2*f4, f2*f4^2, f2*f3, f2*f3*f4, f2*f3*f4^2, f1, f1*f4, f1*f4^2, f1*f3, f1*f3*f4, f1*f3*f4^2, f1*f2, f1*f2*f4, f1*f2*f4^2, f1*f2*f3, f1*f2*f3*f4, f1*f2*f3*f4^2 ]"
      ]
     },
     "execution_count": 8,
     "metadata": {
      "text/plain": ""
     },
     "output_type": "execute_result"
    },
    {
     "data": {
      "text/plain": [
       "[ 1, 3, 3, 2, 2, 2, 2, 6, 6, 2, 2, 2, 2, 6, 6, 2, 2, 2, 2, 6, 6, 2, 2, 2 ]"
      ]
     },
     "execution_count": 9,
     "metadata": {
      "text/plain": ""
     },
     "output_type": "execute_result"
    }
   ],
   "source": [
    "List(AutA);\n",
    "List(AutA,Order);"
   ]
  },
  {
   "cell_type": "code",
   "execution_count": 24,
   "metadata": {},
   "outputs": [
    {
     "name": "stdout",
     "output_type": "stream",
     "text": [
      "[ <identity> of ... ] order 1\n",
      "[ f1 ] order 2\n",
      "[ f2 ] order 2\n",
      "[ f3, f3*f4, f3*f4^2 ] order 2\n",
      "[ f4, f4^2 ] order 3\n",
      "[ f1*f2 ] order 2\n",
      "[ f1*f3, f1*f3*f4, f1*f3*f4^2 ] order 2\n",
      "[ f1*f4, f1*f4^2 ] order 6\n",
      "[ f2*f3, f2*f3*f4, f2*f3*f4^2 ] order 2\n",
      "[ f2*f4, f2*f4^2 ] order 6\n",
      "[ f1*f2*f3, f1*f2*f3*f4, f1*f2*f3*f4^2 ] order 2\n",
      "[ f1*f2*f4, f1*f2*f4^2 ] order 6\n"
     ]
    }
   ],
   "source": [
    "for cc in ConjugacyClasses(AutA) do\n",
    "    elems := List(cc);\n",
    "    Print(List(cc));\n",
    "    Print(\" order \",Order(elems[1]),\"\\n\");\n",
    "od;"
   ]
  },
  {
   "cell_type": "code",
   "execution_count": 25,
   "metadata": {},
   "outputs": [
    {
     "data": {
      "text/plain": [
       "[ <identity> of ..., f2, f1, f1*f2 ]"
      ]
     },
     "execution_count": 25,
     "metadata": {
      "text/plain": ""
     },
     "output_type": "execute_result"
    }
   ],
   "source": [
    "List(Center(AutA));"
   ]
  },
  {
   "cell_type": "code",
   "execution_count": 32,
   "metadata": {},
   "outputs": [
    {
     "data": {
      "text/plain": [
       "<object>"
      ]
     },
     "execution_count": 26,
     "metadata": {
      "text/plain": ""
     },
     "output_type": "execute_result"
    },
    {
     "data": {
      "text/plain": [
       "<object>"
      ]
     },
     "execution_count": 27,
     "metadata": {
      "text/plain": ""
     },
     "output_type": "execute_result"
    },
    {
     "data": {
      "text/plain": [
       "<object>"
      ]
     },
     "execution_count": 28,
     "metadata": {
      "text/plain": ""
     },
     "output_type": "execute_result"
    },
    {
     "data": {
      "text/plain": [
       "<object>"
      ]
     },
     "execution_count": 29,
     "metadata": {
      "text/plain": ""
     },
     "output_type": "execute_result"
    },
    {
     "data": {
      "text/plain": [
       "<group with 3 generators>"
      ]
     },
     "execution_count": 30,
     "metadata": {
      "text/plain": ""
     },
     "output_type": "execute_result"
    },
    {
     "data": {
      "text/plain": [
       "<group with 3 generators>"
      ]
     },
     "execution_count": 31,
     "metadata": {
      "text/plain": ""
     },
     "output_type": "execute_result"
    },
    {
     "data": {
      "text/plain": [
       "<group with 3 generators>"
      ]
     },
     "execution_count": 32,
     "metadata": {
      "text/plain": ""
     },
     "output_type": "execute_result"
    }
   ],
   "source": [
    "imath := AutA.1;\n",
    "jmath := AutA.2;\n",
    "s := AutA.3;\n",
    "t := AutA.4;\n",
    "sgV2:=Subgroup(AutA,[imath,jmath,t]);\n",
    "sgV3:=Subgroup(AutA,[jmath,s,t]);\n",
    "sgU:=Subgroup(AutA,[imath,t,s]);"
   ]
  },
  {
   "cell_type": "code",
   "execution_count": 33,
   "metadata": {},
   "outputs": [
    {
     "data": {
      "text/plain": [
       "true"
      ]
     },
     "execution_count": 33,
     "metadata": {
      "text/plain": ""
     },
     "output_type": "execute_result"
    }
   ],
   "source": [
    "Subgroup(AutA,[imath,jmath]) = Center(AutA);"
   ]
  },
  {
   "cell_type": "code",
   "execution_count": 34,
   "metadata": {},
   "outputs": [
    {
     "data": {
      "text/plain": [
       "[ <object>, <object>, <object>, <object>, <object>, <object>, <object>, <object>, <object>, <object>, <object>, <object>, <object>, <object>, <object>, <object>, <object>, <object>, <object>, <object>, <object>, <object>, <object>, <object>, <object>, <object>, <object>, <object>, <object>, <object>, <object>, <object> ]"
      ]
     },
     "execution_count": 34,
     "metadata": {
      "text/plain": ""
     },
     "output_type": "execute_result"
    }
   ],
   "source": [
    "ConjugacyClassesSubgroups(AutA);"
   ]
  },
  {
   "cell_type": "code",
   "execution_count": 35,
   "metadata": {
    "scrolled": false
   },
   "outputs": [
    {
     "name": "stdout",
     "output_type": "stream",
     "text": [
      "--1[  ]\n",
      "KV2\t[  ](1)\t1\n",
      "KV3\t[  ](1)\t1\n",
      "KU\t[  ](1)\t1\n",
      "--C2[ f1*f2*f3 ]\n",
      "KV2\t[  ](1)\tC2\n",
      "KV3\t[  ](1)\tC2\n",
      "KU\t[  ](1)\tC2\n",
      "--C2[ f2*f3 ]\n",
      "KV2\t[  ](1)\tC2\n",
      "KV3\t[ f2*f3 ](C2)\t1\n",
      "KU\t[  ](1)\tC2\n",
      "--C2[ f1 ]\n",
      "KV2\t[ f1 ](C2)\t1\n",
      "KV3\t[  ](1)\tC2\n",
      "KU\t[ f1 ](C2)\t1\n",
      "--C2[ f1*f3 ]\n",
      "KV2\t[  ](1)\tC2\n",
      "KV3\t[  ](1)\tC2\n",
      "KU\t[ f1*f3 ](C2)\t1\n",
      "--C2[ f2 ]\n",
      "KV2\t[ f2 ](C2)\t1\n",
      "KV3\t[ f2 ](C2)\t1\n",
      "KU\t[  ](1)\tC2\n",
      "--C2[ f3 ]\n",
      "KV2\t[  ](1)\tC2\n",
      "KV3\t[ f3 ](C2)\t1\n",
      "KU\t[ f3 ](C2)\t1\n",
      "--C2[ f1*f2 ]\n",
      "KV2\t[ f1*f2 ](C2)\t1\n",
      "KV3\t[  ](1)\tC2\n",
      "KU\t[  ](1)\tC2\n",
      "--C3[ f4 ]\n",
      "KV2\t[ f4 ](C3)\t1\n",
      "KV3\t[ f4 ](C3)\t1\n",
      "KU\t[ f4 ](C3)\t1\n",
      "--C2 x C2[ f2, f3 ]\n",
      "KV2\t[ f2 ](C2)\tC2\n",
      "KV3\t[ f2, f3 ](C2 x C2)\t1\n",
      "KU\t[ f3 ](C2)\tC2\n",
      "--C2 x C2[ f1, f3 ]\n",
      "KV2\t[ f1 ](C2)\tC2\n",
      "KV3\t[ f3 ](C2)\tC2\n",
      "KU\t[ f1, f3 ](C2 x C2)\t1\n",
      "--C2 x C2[ f1*f2, f3 ]\n",
      "KV2\t[ f1*f2 ](C2)\tC2\n",
      "KV3\t[ f3 ](C2)\tC2\n",
      "KU\t[ f3 ](C2)\tC2\n",
      "--C2 x C2[ f1, f2 ]\n",
      "KV2\t[ f1, f2 ](C2 x C2)\t1\n",
      "KV3\t[ f2 ](C2)\tC2\n",
      "KU\t[ f1 ](C2)\tC2\n",
      "--C2 x C2[ f1*f3, f2 ]\n",
      "KV2\t[ f2 ](C2)\tC2\n",
      "KV3\t[ f2 ](C2)\tC2\n",
      "KU\t[ f1*f3 ](C2)\tC2\n",
      "--C2 x C2[ f1, f2*f3 ]\n",
      "KV2\t[ f1 ](C2)\tC2\n",
      "KV3\t[ f2*f3 ](C2)\tC2\n",
      "KU\t[ f1 ](C2)\tC2\n",
      "--C2 x C2[ f1*f2, f2*f3 ]\n",
      "KV2\t[ f1*f2 ](C2)\tC2\n",
      "KV3\t[ f2*f3 ](C2)\tC2\n",
      "KU\t[ f1*f3 ](C2)\tC2\n",
      "--S3[ f4, f3 ]\n",
      "KV2\t[ f4, f4^2 ](C3)\tC2\n",
      "KV3\t[ f4, f3 ](S3)\t1\n",
      "KU\t[ f4, f3 ](S3)\t1\n",
      "--C6[ f4, f1*f2 ]\n",
      "KV2\t[ f4, f1*f2 ](C6)\t1\n",
      "KV3\t[ f4, f4^2 ](C3)\tC2\n",
      "KU\t[ f4, f4^2 ](C3)\tC2\n",
      "--S3[ f4, f1*f3 ]\n",
      "KV2\t[ f4, f4^2 ](C3)\tC2\n",
      "KV3\t[ f4, f4^2 ](C3)\tC2\n",
      "KU\t[ f4, f1*f3 ](S3)\t1\n",
      "--C6[ f4, f2 ]\n",
      "KV2\t[ f4, f2 ](C6)\t1\n",
      "KV3\t[ f4, f2 ](C6)\t1\n",
      "KU\t[ f4, f4^2 ](C3)\tC2\n",
      "--S3[ f4, f2*f3 ]\n",
      "KV2\t[ f4, f4^2 ](C3)\tC2\n",
      "KV3\t[ f4, f2*f3 ](S3)\t1\n",
      "KU\t[ f4, f4^2 ](C3)\tC2\n",
      "--C6[ f4, f1 ]\n",
      "KV2\t[ f4, f1 ](C6)\t1\n",
      "KV3\t[ f4, f4^2 ](C3)\tC2\n",
      "KU\t[ f4, f1 ](C6)\t1\n",
      "--S3[ f4, f1*f2*f3 ]\n",
      "KV2\t[ f4, f4^2 ](C3)\tC2\n",
      "KV3\t[ f4, f4^2 ](C3)\tC2\n",
      "KU\t[ f4, f4^2 ](C3)\tC2\n",
      "--C2 x C2 x C2[ f1, f2, f3 ]\n",
      "KV2\t[ f1, f2, f1*f2 ](C2 x C2)\tC2\n",
      "KV3\t[ f2, f3, f2*f3 ](C2 x C2)\tC2\n",
      "KU\t[ f1, f3, f1*f3 ](C2 x C2)\tC2\n",
      "--D12[ f4, f2, f3 ]\n",
      "KV2\t[ f2, f4, f2*f4, f4^2, f2*f4^2 ](C6)\tC2\n",
      "KV3\t[ f4, f2, f3 ](D12)\t1\n",
      "KU\t[ f3, f4, f3*f4, f4^2, f3*f4^2 ](S3)\tC2\n",
      "--D12[ f4, f1, f3 ]\n",
      "KV2\t[ f1, f4, f1*f4, f4^2, f1*f4^2 ](C6)\tC2\n",
      "KV3\t[ f3, f4, f3*f4, f4^2, f3*f4^2 ](S3)\tC2\n",
      "KU\t[ f4, f1, f3 ](D12)\t1\n",
      "--D12[ f4, f1*f2, f3 ]\n",
      "KV2\t[ f4, f1*f2, f4^2, f1*f2*f4, f1*f2*f4^2 ](C6)\tC2\n",
      "KV3\t[ f3, f4, f3*f4, f4^2, f3*f4^2 ](S3)\tC2\n",
      "KU\t[ f3, f4, f3*f4, f4^2, f3*f4^2 ](S3)\tC2\n",
      "--C6 x C2[ f4, f1, f2 ]\n",
      "KV2\t[ f4, f1, f2 ](C6 x C2)\t1\n",
      "KV3\t[ f2, f4, f2*f4, f4^2, f2*f4^2 ](C6)\tC2\n",
      "KU\t[ f1, f4, f1*f4, f4^2, f1*f4^2 ](C6)\tC2\n",
      "--D12[ f4, f2, f1*f3 ]\n",
      "KV2\t[ f2, f4, f2*f4, f4^2, f2*f4^2 ](C6)\tC2\n",
      "KV3\t[ f2, f4, f2*f4, f4^2, f2*f4^2 ](C6)\tC2\n",
      "KU\t[ f4, f1*f3, f4^2, f1*f3*f4, f1*f3*f4^2 ](S3)\tC2\n",
      "--D12[ f4, f1, f2*f3 ]\n",
      "KV2\t[ f1, f4, f1*f4, f4^2, f1*f4^2 ](C6)\tC2\n",
      "KV3\t[ f4, f2*f3, f4^2, f2*f3*f4, f2*f3*f4^2 ](S3)\tC2\n",
      "KU\t[ f1, f4, f1*f4, f4^2, f1*f4^2 ](C6)\tC2\n",
      "--D12[ f4, f1*f2, f1*f3 ]\n",
      "KV2\t[ f4, f1*f2, f4^2, f1*f2*f4, f1*f2*f4^2 ](C6)\tC2\n",
      "KV3\t[ f4, f2*f3, f4^2, f2*f3*f4, f2*f3*f4^2 ](S3)\tC2\n",
      "KU\t[ f4, f1*f3, f4^2, f1*f3*f4, f1*f3*f4^2 ](S3)\tC2\n",
      "--C2 x C2 x S3[ f4, f1, f2, f3 ]\n",
      "KV2\t[ f1, f2, f4 ](C6 x C2)\tC2\n",
      "KV3\t[ f2, f3, f4 ](D12)\tC2\n",
      "KU\t[ f1, f4, f3 ](D12)\tC2\n"
     ]
    }
   ],
   "source": [
    "for cc in ConjugacyClassesSubgroups(AutA) do\n",
    "    Print(\"--\");\n",
    "    rp := Representative(cc);\n",
    "    Print(StructureDescription(rp));\n",
    "    Print(GeneratorsOfGroup(rp),\"\\n\");\n",
    "    fixV2:=Intersection(rp,sgV2);\n",
    "    Print(\"KV2\\t\", GeneratorsOfGroup(fixV2),\"(\",StructureDescription(fixV2),\")\\t\",StructureDescription(rp/fixV2),\"\\n\");\n",
    "    fixV3:=Intersection(rp,sgV3);\n",
    "    Print(\"KV3\\t\", GeneratorsOfGroup(fixV3),\"(\",StructureDescription(fixV3),\")\\t\",StructureDescription(rp/fixV3),\"\\n\");\n",
    "    fixU:=Intersection(rp,sgU);\n",
    "    Print(\"KU\\t\", GeneratorsOfGroup(fixU),\"(\",StructureDescription(fixU),\")\\t\",StructureDescription(rp/fixU),\"\\n\");\n",
    "od;"
   ]
  },
  {
   "cell_type": "code",
   "execution_count": 36,
   "metadata": {
    "scrolled": false
   },
   "outputs": [
    {
     "name": "stdout",
     "output_type": "stream",
     "text": [
      "--------------------\n",
      "1 Group( <identity> of ... )\n",
      "--\n",
      "Pcgs([  ]) -> [  ]\n",
      "[  ]\t[  ]\t[  ]\n",
      "--------------------\n",
      "--------------------\n",
      "C2 Group( [ f1*f2*f3 ] )\n",
      "--\n",
      "Pcgs([ f1*f2*f3 ]) -> [ f1*f2*f3 ]\n",
      "[  ]\t[  ]\t[  ]\n",
      "--------------------\n",
      "--------------------\n",
      "C2 Group( [ f2*f3 ] )\n",
      "--\n",
      "Pcgs([ f2*f3 ]) -> [ f2*f3 ]\n",
      "[  ]\t[ f2*f3 ]\t[  ]\n",
      "--------------------\n",
      "--------------------\n",
      "C2 Group( [ f1 ] )\n",
      "--\n",
      "Pcgs([ f1 ]) -> [ f1 ]\n",
      "[ f1 ]\t[  ]\t[ f1 ]\n",
      "--------------------\n",
      "--------------------\n",
      "C2 Group( [ f1*f3 ] )\n",
      "--\n",
      "Pcgs([ f1*f3 ]) -> [ f1*f3 ]\n",
      "[  ]\t[  ]\t[ f1*f3 ]\n",
      "--------------------\n",
      "--------------------\n",
      "C2 Group( [ f2 ] )\n",
      "--\n",
      "Pcgs([ f2 ]) -> [ f2 ]\n",
      "[ f2 ]\t[ f2 ]\t[  ]\n",
      "--------------------\n",
      "--------------------\n",
      "C2 Group( [ f3 ] )\n",
      "--\n",
      "Pcgs([ f3 ]) -> [ f3 ]\n",
      "[  ]\t[ f3 ]\t[ f3 ]\n",
      "--------------------\n",
      "--------------------\n",
      "C2 Group( [ f1*f2 ] )\n",
      "--\n",
      "Pcgs([ f1*f2 ]) -> [ f1*f2 ]\n",
      "[ f1*f2 ]\t[  ]\t[  ]\n",
      "--------------------\n",
      "--------------------\n",
      "C3 Group( [ f4 ] )\n",
      "--\n",
      "Pcgs([ f4 ]) -> [ f4 ]\n",
      "[ f4 ]\t[ f4 ]\t[ f4 ]\n",
      "--------------------\n",
      "--------------------\n",
      "C2 x C2 Group( [ f2, f3 ] )\n",
      "--\n",
      "Pcgs([ f2, f3 ]) -> [ f3, f2*f3 ]\n",
      "[ f3 ]\t[ f3, f2*f3 ]\t[ f2*f3 ]\n",
      "Pcgs([ f2, f3 ]) -> [ f2*f3, f3 ]\n",
      "[ f2*f3 ]\t[ f2*f3, f3 ]\t[ f3 ]\n",
      "Pcgs([ f2, f3 ]) -> [ f2, f2*f3 ]\n",
      "[ f2 ]\t[ f2, f2*f3 ]\t[ f2*f3 ]\n",
      "Pcgs([ f2, f3 ]) -> [ f2*f3, f2 ]\n",
      "[ f2*f3 ]\t[ f2*f3, f2 ]\t[ f2 ]\n",
      "Pcgs([ f2, f3 ]) -> [ f2, f3 ]\n",
      "[ f2 ]\t[ f2, f3 ]\t[ f3 ]\n",
      "Pcgs([ f2, f3 ]) -> [ f3, f2 ]\n",
      "[ f3 ]\t[ f3, f2 ]\t[ f2 ]\n",
      "--------------------\n",
      "--------------------\n",
      "C2 x C2 Group( [ f1, f3 ] )\n",
      "--\n",
      "Pcgs([ f1, f3 ]) -> [ f3, f1*f3 ]\n",
      "[ f3 ]\t[ f1*f3 ]\t[ f3, f1*f3 ]\n",
      "Pcgs([ f1, f3 ]) -> [ f1*f3, f3 ]\n",
      "[ f1*f3 ]\t[ f3 ]\t[ f1*f3, f3 ]\n",
      "Pcgs([ f1, f3 ]) -> [ f1, f1*f3 ]\n",
      "[ f1 ]\t[ f1*f3 ]\t[ f1, f1*f3 ]\n",
      "Pcgs([ f1, f3 ]) -> [ f1*f3, f1 ]\n",
      "[ f1*f3 ]\t[ f1 ]\t[ f1*f3, f1 ]\n",
      "Pcgs([ f1, f3 ]) -> [ f1, f3 ]\n",
      "[ f1 ]\t[ f3 ]\t[ f1, f3 ]\n",
      "Pcgs([ f1, f3 ]) -> [ f3, f1 ]\n",
      "[ f3 ]\t[ f1 ]\t[ f3, f1 ]\n",
      "--------------------\n",
      "--------------------\n",
      "C2 x C2 Group( [ f1*f2, f3 ] )\n",
      "--\n",
      "Pcgs([ f1*f2, f3 ]) -> [ f1*f2, f1*f2*f3 ]\n",
      "[ f1*f2 ]\t[ f1*f2*f3 ]\t[ f1*f2*f3 ]\n",
      "Pcgs([ f1*f2, f3 ]) -> [ f1*f2*f3, f1*f2 ]\n",
      "[ f1*f2*f3 ]\t[ f1*f2 ]\t[ f1*f2 ]\n",
      "Pcgs([ f1*f2, f3 ]) -> [ f3, f1*f2*f3 ]\n",
      "[ f3 ]\t[ f1*f2*f3 ]\t[ f1*f2*f3 ]\n",
      "Pcgs([ f1*f2, f3 ]) -> [ f1*f2*f3, f3 ]\n",
      "[ f1*f2*f3 ]\t[ f3 ]\t[ f3 ]\n",
      "Pcgs([ f1*f2, f3 ]) -> [ f3, f1*f2 ]\n",
      "[ f3 ]\t[ f1*f2 ]\t[ f1*f2 ]\n",
      "Pcgs([ f1*f2, f3 ]) -> [ f1*f2, f3 ]\n",
      "[ f1*f2 ]\t[ f3 ]\t[ f3 ]\n",
      "--------------------\n",
      "--------------------\n",
      "C2 x C2 Group( [ f1, f2 ] )\n",
      "--\n",
      "Pcgs([ f1, f2 ]) -> [ f2, f1*f2 ]\n",
      "[ f2, f1*f2 ]\t[ f1*f2 ]\t[ f2 ]\n",
      "Pcgs([ f1, f2 ]) -> [ f1*f2, f2 ]\n",
      "[ f1*f2, f2 ]\t[ f2 ]\t[ f1*f2 ]\n",
      "Pcgs([ f1, f2 ]) -> [ f1, f1*f2 ]\n",
      "[ f1, f1*f2 ]\t[ f1*f2 ]\t[ f1 ]\n",
      "Pcgs([ f1, f2 ]) -> [ f1*f2, f1 ]\n",
      "[ f1*f2, f1 ]\t[ f1 ]\t[ f1*f2 ]\n",
      "Pcgs([ f1, f2 ]) -> [ f1, f2 ]\n",
      "[ f1, f2 ]\t[ f2 ]\t[ f1 ]\n",
      "Pcgs([ f1, f2 ]) -> [ f2, f1 ]\n",
      "[ f2, f1 ]\t[ f1 ]\t[ f2 ]\n",
      "--------------------\n",
      "--------------------\n",
      "C2 x C2 Group( [ f1*f3, f2 ] )\n",
      "--\n",
      "Pcgs([ f1*f3, f2 ]) -> [ f1*f3, f1*f2*f3 ]\n",
      "[ f1*f2*f3 ]\t[ f1*f2*f3 ]\t[ f1*f3 ]\n",
      "Pcgs([ f1*f3, f2 ]) -> [ f1*f2*f3, f1*f3 ]\n",
      "[ f1*f3 ]\t[ f1*f3 ]\t[ f1*f2*f3 ]\n",
      "Pcgs([ f1*f3, f2 ]) -> [ f2, f1*f2*f3 ]\n",
      "[ f1*f2*f3 ]\t[ f1*f2*f3 ]\t[ f2 ]\n",
      "Pcgs([ f1*f3, f2 ]) -> [ f1*f2*f3, f2 ]\n",
      "[ f2 ]\t[ f2 ]\t[ f1*f2*f3 ]\n",
      "Pcgs([ f1*f3, f2 ]) -> [ f2, f1*f3 ]\n",
      "[ f1*f3 ]\t[ f1*f3 ]\t[ f2 ]\n",
      "Pcgs([ f1*f3, f2 ]) -> [ f1*f3, f2 ]\n",
      "[ f2 ]\t[ f2 ]\t[ f1*f3 ]\n",
      "--------------------\n",
      "--------------------\n",
      "C2 x C2 Group( [ f1, f2*f3 ] )\n",
      "--\n",
      "Pcgs([ f1, f2*f3 ]) -> [ f2*f3, f1*f2*f3 ]\n",
      "[ f2*f3 ]\t[ f1*f2*f3 ]\t[ f2*f3 ]\n",
      "Pcgs([ f1, f2*f3 ]) -> [ f1*f2*f3, f2*f3 ]\n",
      "[ f1*f2*f3 ]\t[ f2*f3 ]\t[ f1*f2*f3 ]\n",
      "Pcgs([ f1, f2*f3 ]) -> [ f1, f1*f2*f3 ]\n",
      "[ f1 ]\t[ f1*f2*f3 ]\t[ f1 ]\n",
      "Pcgs([ f1, f2*f3 ]) -> [ f1*f2*f3, f1 ]\n",
      "[ f1*f2*f3 ]\t[ f1 ]\t[ f1*f2*f3 ]\n",
      "Pcgs([ f1, f2*f3 ]) -> [ f1, f2*f3 ]\n",
      "[ f1 ]\t[ f2*f3 ]\t[ f1 ]\n",
      "Pcgs([ f1, f2*f3 ]) -> [ f2*f3, f1 ]\n",
      "[ f2*f3 ]\t[ f1 ]\t[ f2*f3 ]\n",
      "--------------------\n",
      "--------------------\n",
      "C2 x C2 Group( [ f1*f2, f2*f3 ] )\n",
      "--\n",
      "Pcgs([ f1*f2, f2*f3 ]) -> [ f1*f2, f2*f3 ]\n",
      "[ f1*f2 ]\t[ f2*f3 ]\t[ f1*f3 ]\n",
      "Pcgs([ f1*f2, f2*f3 ]) -> [ f1*f2, f1*f3 ]\n",
      "[ f1*f2 ]\t[ f1*f3 ]\t[ f2*f3 ]\n",
      "Pcgs([ f1*f2, f2*f3 ]) -> [ f1*f3, f2*f3 ]\n",
      "[ f1*f3 ]\t[ f2*f3 ]\t[ f1*f2 ]\n",
      "Pcgs([ f1*f2, f2*f3 ]) -> [ f1*f3, f1*f2 ]\n",
      "[ f1*f3 ]\t[ f1*f2 ]\t[ f2*f3 ]\n",
      "Pcgs([ f1*f2, f2*f3 ]) -> [ f2*f3, f1*f3 ]\n",
      "[ f2*f3 ]\t[ f1*f3 ]\t[ f1*f2 ]\n",
      "Pcgs([ f1*f2, f2*f3 ]) -> [ f2*f3, f1*f2 ]\n",
      "[ f2*f3 ]\t[ f1*f2 ]\t[ f1*f3 ]\n",
      "--------------------\n",
      "--------------------\n",
      "S3 Group( [ f4, f3 ] )\n",
      "--\n",
      "Pcgs([ f3, f4 ]) -> [ f3, f4 ]\n",
      "[ f4, f4^2 ]\t[ f4, f3 ]\t[ f4, f3 ]\n",
      "--------------------\n",
      "--------------------\n",
      "C6 Group( [ f4, f1*f2 ] )\n",
      "--\n",
      "Pcgs([ f1*f2, f4 ]) -> [ f1*f2, f4 ]\n",
      "[ f4, f1*f2 ]\t[ f4, f4^2 ]\t[ f4, f4^2 ]\n",
      "--------------------\n",
      "--------------------\n",
      "S3 Group( [ f4, f1*f3 ] )\n",
      "--\n",
      "Pcgs([ f1*f3, f4 ]) -> [ f1*f3, f4 ]\n",
      "[ f4, f4^2 ]\t[ f4, f4^2 ]\t[ f4, f1*f3 ]\n",
      "--------------------\n",
      "--------------------\n",
      "C6 Group( [ f4, f2 ] )\n",
      "--\n",
      "Pcgs([ f2, f4 ]) -> [ f2, f4 ]\n",
      "[ f4, f2 ]\t[ f4, f2 ]\t[ f4, f4^2 ]\n",
      "--------------------\n",
      "--------------------\n",
      "S3 Group( [ f4, f2*f3 ] )\n",
      "--\n",
      "Pcgs([ f2*f3, f4 ]) -> [ f2*f3, f4 ]\n",
      "[ f4, f4^2 ]\t[ f4, f2*f3 ]\t[ f4, f4^2 ]\n",
      "--------------------\n",
      "--------------------\n",
      "C6 Group( [ f4, f1 ] )\n",
      "--\n",
      "Pcgs([ f1, f4 ]) -> [ f1, f4 ]\n",
      "[ f4, f1 ]\t[ f4, f4^2 ]\t[ f4, f1 ]\n",
      "--------------------\n",
      "--------------------\n",
      "S3 Group( [ f4, f1*f2*f3 ] )\n",
      "--\n",
      "Pcgs([ f1*f2*f3, f4 ]) -> [ f1*f2*f3, f4 ]\n",
      "[ f4, f4^2 ]\t[ f4, f4^2 ]\t[ f4, f4^2 ]\n",
      "--------------------\n",
      "--------------------\n",
      "C2 x C2 x C2 Group( [ f1, f2, f3 ] )\n",
      "--\n",
      "Pcgs([ f1, f2, f3 ]) -> [ f2, f1*f3, f2*f3 ]\n",
      "[ f2, f1*f3, f1*f2*f3 ]\t[ f1*f3, f2*f3, f1*f2 ]\t[ f2, f2*f3, f3 ]\n",
      "Pcgs([ f1, f2, f3 ]) -> [ f2, f3, f1*f2*f3 ]\n",
      "[ f2, f3, f2*f3 ]\t[ f3, f1*f2*f3, f1*f2 ]\t[ f2, f1*f2*f3, f1*f3 ]\n",
      "Pcgs([ f1, f2, f3 ]) -> [ f2, f1*f2*f3, f3 ]\n",
      "[ f2, f1*f2*f3, f1*f3 ]\t[ f1*f2*f3, f3, f1*f2 ]\t[ f2, f3, f2*f3 ]\n",
      "Pcgs([ f1, f2, f3 ]) -> [ f2, f2*f3, f1*f3 ]\n",
      "[ f2, f2*f3, f3 ]\t[ f2*f3, f1*f3, f1*f2 ]\t[ f2, f1*f3, f1*f2*f3 ]\n",
      "Pcgs([ f1, f2, f3 ]) -> [ f3, f1*f2, f2*f3 ]\n",
      "[ f3, f1*f2, f1*f2*f3 ]\t[ f1*f2, f2*f3, f1*f3 ]\t[ f3, f2*f3, f2 ]\n",
      "Pcgs([ f1, f2, f3 ]) -> [ f3, f2, f1*f2*f3 ]\n",
      "[ f3, f2, f2*f3 ]\t[ f2, f1*f2*f3, f1*f3 ]\t[ f3, f1*f2*f3, f1*f2 ]\n",
      "Pcgs([ f1, f2, f3 ]) -> [ f3, f1*f2*f3, f2 ]\n",
      "[ f3, f1*f2*f3, f1*f2 ]\t[ f1*f2*f3, f2, f1*f3 ]\t[ f3, f2, f2*f3 ]\n",
      "Pcgs([ f1, f2, f3 ]) -> [ f3, f2*f3, f1*f2 ]\n",
      "[ f3, f2*f3, f2 ]\t[ f2*f3, f1*f2, f1*f3 ]\t[ f3, f1*f2, f1*f2*f3 ]\n",
      "Pcgs([ f1, f2, f3 ]) -> [ f1*f2, f1*f3, f1*f2*f3 ]\n",
      "[ f1*f2, f1*f3, f2*f3 ]\t[ f1*f3, f1*f2*f3, f2 ]\t[ f1*f2, f1*f2*f3, f3 ]\n",
      "Pcgs([ f1, f2, f3 ]) -> [ f1*f2, f3, f2*f3 ]\n",
      "[ f1*f2, f3, f1*f2*f3 ]\t[ f3, f2*f3, f2 ]\t[ f1*f2, f2*f3, f1*f3 ]\n",
      "Pcgs([ f1, f2, f3 ]) -> [ f1*f2, f1*f2*f3, f1*f3 ]\n",
      "[ f1*f2, f1*f2*f3, f3 ]\t[ f1*f2*f3, f1*f3, f2 ]\t[ f1*f2, f1*f3, f2*f3 ]\n",
      "Pcgs([ f1, f2, f3 ]) -> [ f1*f2, f2*f3, f3 ]\n",
      "[ f1*f2, f2*f3, f1*f3 ]\t[ f2*f3, f3, f2 ]\t[ f1*f2, f3, f1*f2*f3 ]\n",
      "Pcgs([ f1, f2, f3 ]) -> [ f1*f3, f1*f2, f1*f2*f3 ]\n",
      "[ f1*f3, f1*f2, f2*f3 ]\t[ f1*f2, f1*f2*f3, f3 ]\t[ f1*f3, f1*f2*f3, f2 ]\n",
      "Pcgs([ f1, f2, f3 ]) -> [ f1*f3, f2, f2*f3 ]\n",
      "[ f1*f3, f2, f1*f2*f3 ]\t[ f2, f2*f3, f3 ]\t[ f1*f3, f2*f3, f1*f2 ]\n",
      "Pcgs([ f1, f2, f3 ]) -> [ f1*f3, f1*f2*f3, f1*f2 ]\n",
      "[ f1*f3, f1*f2*f3, f2 ]\t[ f1*f2*f3, f1*f2, f3 ]\t[ f1*f3, f1*f2, f2*f3 ]\n",
      "Pcgs([ f1, f2, f3 ]) -> [ f1*f3, f2*f3, f2 ]\n",
      "[ f1*f3, f2*f3, f1*f2 ]\t[ f2*f3, f2, f3 ]\t[ f1*f3, f2, f1*f2*f3 ]\n",
      "Pcgs([ f1, f2, f3 ]) -> [ f2*f3, f1*f2, f3 ]\n",
      "[ f2*f3, f1*f2, f1*f3 ]\t[ f1*f2, f3, f1*f2*f3 ]\t[ f2*f3, f3, f2 ]\n",
      "Pcgs([ f1, f2, f3 ]) -> [ f2*f3, f1*f3, f2 ]\n",
      "[ f2*f3, f1*f3, f1*f2 ]\t[ f1*f3, f2, f1*f2*f3 ]\t[ f2*f3, f2, f3 ]\n",
      "Pcgs([ f1, f2, f3 ]) -> [ f2*f3, f2, f1*f3 ]\n",
      "[ f2*f3, f2, f3 ]\t[ f2, f1*f3, f1*f2*f3 ]\t[ f2*f3, f1*f3, f1*f2 ]\n",
      "Pcgs([ f1, f2, f3 ]) -> [ f2*f3, f3, f1*f2 ]\n",
      "[ f2*f3, f3, f2 ]\t[ f3, f1*f2, f1*f2*f3 ]\t[ f2*f3, f1*f2, f1*f3 ]\n",
      "Pcgs([ f1, f2, f3 ]) -> [ f1*f2*f3, f1*f2, f1*f3 ]\n",
      "[ f1*f2*f3, f1*f2, f3 ]\t[ f1*f2, f1*f3, f2*f3 ]\t[ f1*f2*f3, f1*f3, f2 ]\n",
      "Pcgs([ f1, f2, f3 ]) -> [ f1*f2*f3, f1*f3, f1*f2 ]\n",
      "[ f1*f2*f3, f1*f3, f2 ]\t[ f1*f3, f1*f2, f2*f3 ]\t[ f1*f2*f3, f1*f2, f3 ]\n",
      "Pcgs([ f1, f2, f3 ]) -> [ f1*f2*f3, f2, f3 ]\n",
      "[ f1*f2*f3, f2, f1*f3 ]\t[ f2, f3, f2*f3 ]\t[ f1*f2*f3, f3, f1*f2 ]\n",
      "Pcgs([ f1, f2, f3 ]) -> [ f1*f2*f3, f3, f2 ]\n",
      "[ f1*f2*f3, f3, f1*f2 ]\t[ f3, f2, f2*f3 ]\t[ f1*f2*f3, f2, f1*f3 ]\n",
      "Pcgs([ f1, f2, f3 ]) -> [ f1, f2*f3, f1*f3 ]\n",
      "[ f1, f2*f3, f1*f2*f3 ]\t[ f2*f3, f1*f3, f1*f2 ]\t[ f1, f1*f3, f3 ]\n"
     ]
    },
    {
     "name": "stdout",
     "output_type": "stream",
     "text": [
      "Pcgs([ f1, f2, f3 ]) -> [ f1, f1*f2*f3, f3 ]\n",
      "[ f1, f1*f2*f3, f2*f3 ]\t[ f1*f2*f3, f3, f1*f2 ]\t[ f1, f3, f1*f3 ]\n",
      "Pcgs([ f1, f2, f3 ]) -> [ f1, f3, f1*f2*f3 ]\n",
      "[ f1, f3, f1*f3 ]\t[ f3, f1*f2*f3, f1*f2 ]\t[ f1, f1*f2*f3, f2*f3 ]\n",
      "Pcgs([ f1, f2, f3 ]) -> [ f1, f1*f3, f2*f3 ]\n",
      "[ f1, f1*f3, f3 ]\t[ f1*f3, f2*f3, f1*f2 ]\t[ f1, f2*f3, f1*f2*f3 ]\n",
      "Pcgs([ f1, f2, f3 ]) -> [ f3, f1*f2, f1*f3 ]\n",
      "[ f3, f1*f2, f1*f2*f3 ]\t[ f1*f2, f1*f3, f2*f3 ]\t[ f3, f1*f3, f1 ]\n",
      "Pcgs([ f1, f2, f3 ]) -> [ f3, f1, f1*f2*f3 ]\n",
      "[ f3, f1, f1*f3 ]\t[ f1, f1*f2*f3, f2*f3 ]\t[ f3, f1*f2*f3, f1*f2 ]\n",
      "Pcgs([ f1, f2, f3 ]) -> [ f3, f1*f2*f3, f1 ]\n",
      "[ f3, f1*f2*f3, f1*f2 ]\t[ f1*f2*f3, f1, f2*f3 ]\t[ f3, f1, f1*f3 ]\n",
      "Pcgs([ f1, f2, f3 ]) -> [ f3, f1*f3, f1*f2 ]\n",
      "[ f3, f1*f3, f1 ]\t[ f1*f3, f1*f2, f2*f3 ]\t[ f3, f1*f2, f1*f2*f3 ]\n",
      "Pcgs([ f1, f2, f3 ]) -> [ f1*f2, f2*f3, f1*f2*f3 ]\n",
      "[ f1*f2, f2*f3, f1*f3 ]\t[ f2*f3, f1*f2*f3, f1 ]\t[ f1*f2, f1*f2*f3, f3 ]\n",
      "Pcgs([ f1, f2, f3 ]) -> [ f1*f2, f1*f2*f3, f2*f3 ]\n",
      "[ f1*f2, f1*f2*f3, f3 ]\t[ f1*f2*f3, f2*f3, f1 ]\t[ f1*f2, f2*f3, f1*f3 ]\n",
      "Pcgs([ f1, f2, f3 ]) -> [ f1*f2, f3, f1*f3 ]\n",
      "[ f1*f2, f3, f1*f2*f3 ]\t[ f3, f1*f3, f1 ]\t[ f1*f2, f1*f3, f2*f3 ]\n",
      "Pcgs([ f1, f2, f3 ]) -> [ f1*f2, f1*f3, f3 ]\n",
      "[ f1*f2, f1*f3, f2*f3 ]\t[ f1*f3, f3, f1 ]\t[ f1*f2, f3, f1*f2*f3 ]\n",
      "Pcgs([ f1, f2, f3 ]) -> [ f1*f3, f1*f2, f3 ]\n",
      "[ f1*f3, f1*f2, f2*f3 ]\t[ f1*f2, f3, f1*f2*f3 ]\t[ f1*f3, f3, f1 ]\n",
      "Pcgs([ f1, f2, f3 ]) -> [ f1*f3, f2*f3, f1 ]\n",
      "[ f1*f3, f2*f3, f1*f2 ]\t[ f2*f3, f1, f1*f2*f3 ]\t[ f1*f3, f1, f3 ]\n",
      "Pcgs([ f1, f2, f3 ]) -> [ f1*f3, f1, f2*f3 ]\n",
      "[ f1*f3, f1, f3 ]\t[ f1, f2*f3, f1*f2*f3 ]\t[ f1*f3, f2*f3, f1*f2 ]\n",
      "Pcgs([ f1, f2, f3 ]) -> [ f1*f3, f3, f1*f2 ]\n",
      "[ f1*f3, f3, f1 ]\t[ f3, f1*f2, f1*f2*f3 ]\t[ f1*f3, f1*f2, f2*f3 ]\n",
      "Pcgs([ f1, f2, f3 ]) -> [ f2*f3, f1*f2, f1*f2*f3 ]\n",
      "[ f2*f3, f1*f2, f1*f3 ]\t[ f1*f2, f1*f2*f3, f3 ]\t[ f2*f3, f1*f2*f3, f1 ]\n",
      "Pcgs([ f1, f2, f3 ]) -> [ f2*f3, f1, f1*f3 ]\n",
      "[ f2*f3, f1, f1*f2*f3 ]\t[ f1, f1*f3, f3 ]\t[ f2*f3, f1*f3, f1*f2 ]\n",
      "Pcgs([ f1, f2, f3 ]) -> [ f2*f3, f1*f2*f3, f1*f2 ]\n",
      "[ f2*f3, f1*f2*f3, f1 ]\t[ f1*f2*f3, f1*f2, f3 ]\t[ f2*f3, f1*f2, f1*f3 ]\n",
      "Pcgs([ f1, f2, f3 ]) -> [ f2*f3, f1*f3, f1 ]\n",
      "[ f2*f3, f1*f3, f1*f2 ]\t[ f1*f3, f1, f3 ]\t[ f2*f3, f1, f1*f2*f3 ]\n",
      "Pcgs([ f1, f2, f3 ]) -> [ f1*f2*f3, f1*f2, f2*f3 ]\n",
      "[ f1*f2*f3, f1*f2, f3 ]\t[ f1*f2, f2*f3, f1*f3 ]\t[ f1*f2*f3, f2*f3, f1 ]\n",
      "Pcgs([ f1, f2, f3 ]) -> [ f1*f2*f3, f2*f3, f1*f2 ]\n",
      "[ f1*f2*f3, f2*f3, f1 ]\t[ f2*f3, f1*f2, f1*f3 ]\t[ f1*f2*f3, f1*f2, f3 ]\n",
      "Pcgs([ f1, f2, f3 ]) -> [ f1*f2*f3, f1, f3 ]\n",
      "[ f1*f2*f3, f1, f2*f3 ]\t[ f1, f3, f1*f3 ]\t[ f1*f2*f3, f3, f1*f2 ]\n",
      "Pcgs([ f1, f2, f3 ]) -> [ f1*f2*f3, f3, f1 ]\n",
      "[ f1*f2*f3, f3, f1*f2 ]\t[ f3, f1, f1*f3 ]\t[ f1*f2*f3, f1, f2*f3 ]\n",
      "Pcgs([ f1, f2, f3 ]) -> [ f1, f2*f3, f1*f2 ]\n",
      "[ f1, f2*f3, f1*f2*f3 ]\t[ f2*f3, f1*f2, f1*f3 ]\t[ f1, f1*f2, f2 ]\n",
      "Pcgs([ f1, f2, f3 ]) -> [ f1, f1*f2*f3, f2 ]\n",
      "[ f1, f1*f2*f3, f2*f3 ]\t[ f1*f2*f3, f2, f1*f3 ]\t[ f1, f2, f1*f2 ]\n",
      "Pcgs([ f1, f2, f3 ]) -> [ f1, f2, f1*f2*f3 ]\n",
      "[ f1, f2, f1*f2 ]\t[ f2, f1*f2*f3, f1*f3 ]\t[ f1, f1*f2*f3, f2*f3 ]\n",
      "Pcgs([ f1, f2, f3 ]) -> [ f1, f1*f2, f2*f3 ]\n",
      "[ f1, f1*f2, f2 ]\t[ f1*f2, f2*f3, f1*f3 ]\t[ f1, f2*f3, f1*f2*f3 ]\n",
      "Pcgs([ f1, f2, f3 ]) -> [ f2, f1*f3, f1*f2 ]\n",
      "[ f2, f1*f3, f1*f2*f3 ]\t[ f1*f3, f1*f2, f2*f3 ]\t[ f2, f1*f2, f1 ]\n",
      "Pcgs([ f1, f2, f3 ]) -> [ f2, f1*f2*f3, f1 ]\n",
      "[ f2, f1*f2*f3, f1*f3 ]\t[ f1*f2*f3, f1, f2*f3 ]\t[ f2, f1, f1*f2 ]\n",
      "Pcgs([ f1, f2, f3 ]) -> [ f2, f1, f1*f2*f3 ]\n",
      "[ f2, f1, f1*f2 ]\t[ f1, f1*f2*f3, f2*f3 ]\t[ f2, f1*f2*f3, f1*f3 ]\n",
      "Pcgs([ f1, f2, f3 ]) -> [ f2, f1*f2, f1*f3 ]\n",
      "[ f2, f1*f2, f1 ]\t[ f1*f2, f1*f3, f2*f3 ]\t[ f2, f1*f3, f1*f2*f3 ]\n",
      "Pcgs([ f1, f2, f3 ]) -> [ f1*f2, f1*f3, f2 ]\n",
      "[ f1*f2, f1*f3, f2*f3 ]\t[ f1*f3, f2, f1*f2*f3 ]\t[ f1*f2, f2, f1 ]\n",
      "Pcgs([ f1, f2, f3 ]) -> [ f1*f2, f2*f3, f1 ]\n",
      "[ f1*f2, f2*f3, f1*f3 ]\t[ f2*f3, f1, f1*f2*f3 ]\t[ f1*f2, f1, f2 ]\n",
      "Pcgs([ f1, f2, f3 ]) -> [ f1*f2, f1, f2*f3 ]\n",
      "[ f1*f2, f1, f2 ]\t[ f1, f2*f3, f1*f2*f3 ]\t[ f1*f2, f2*f3, f1*f3 ]\n",
      "Pcgs([ f1, f2, f3 ]) -> [ f1*f2, f2, f1*f3 ]\n",
      "[ f1*f2, f2, f1 ]\t[ f2, f1*f3, f1*f2*f3 ]\t[ f1*f2, f1*f3, f2*f3 ]\n",
      "Pcgs([ f1, f2, f3 ]) -> [ f1*f3, f2*f3, f1*f2*f3 ]\n",
      "[ f1*f3, f2*f3, f1*f2 ]\t[ f2*f3, f1*f2*f3, f1 ]\t[ f1*f3, f1*f2*f3, f2 ]\n",
      "Pcgs([ f1, f2, f3 ]) -> [ f1*f3, f1*f2*f3, f2*f3 ]\n",
      "[ f1*f3, f1*f2*f3, f2 ]\t[ f1*f2*f3, f2*f3, f1 ]\t[ f1*f3, f2*f3, f1*f2 ]\n",
      "Pcgs([ f1, f2, f3 ]) -> [ f1*f3, f2, f1*f2 ]\n",
      "[ f1*f3, f2, f1*f2*f3 ]\t[ f2, f1*f2, f1 ]\t[ f1*f3, f1*f2, f2*f3 ]\n",
      "Pcgs([ f1, f2, f3 ]) -> [ f1*f3, f1*f2, f2 ]\n",
      "[ f1*f3, f1*f2, f2*f3 ]\t[ f1*f2, f2, f1 ]\t[ f1*f3, f2, f1*f2*f3 ]\n",
      "Pcgs([ f1, f2, f3 ]) -> [ f2*f3, f1*f3, f1*f2*f3 ]\n",
      "[ f2*f3, f1*f3, f1*f2 ]\t[ f1*f3, f1*f2*f3, f2 ]\t[ f2*f3, f1*f2*f3, f1 ]\n",
      "Pcgs([ f1, f2, f3 ]) -> [ f2*f3, f1*f2*f3, f1*f3 ]\n",
      "[ f2*f3, f1*f2*f3, f1 ]\t[ f1*f2*f3, f1*f3, f2 ]\t[ f2*f3, f1*f3, f1*f2 ]\n",
      "Pcgs([ f1, f2, f3 ]) -> [ f2*f3, f1, f1*f2 ]\n",
      "[ f2*f3, f1, f1*f2*f3 ]\t[ f1, f1*f2, f2 ]\t[ f2*f3, f1*f2, f1*f3 ]\n",
      "Pcgs([ f1, f2, f3 ]) -> [ f2*f3, f1*f2, f1 ]\n",
      "[ f2*f3, f1*f2, f1*f3 ]\t[ f1*f2, f1, f2 ]\t[ f2*f3, f1, f1*f2*f3 ]\n",
      "Pcgs([ f1, f2, f3 ]) -> [ f1*f2*f3, f1*f3, f2*f3 ]\n",
      "[ f1*f2*f3, f1*f3, f2 ]\t[ f1*f3, f2*f3, f1*f2 ]\t[ f1*f2*f3, f2*f3, f1 ]\n",
      "Pcgs([ f1, f2, f3 ]) -> [ f1*f2*f3, f2*f3, f1*f3 ]\n",
      "[ f1*f2*f3, f2*f3, f1 ]\t[ f2*f3, f1*f3, f1*f2 ]\t[ f1*f2*f3, f1*f3, f2 ]\n",
      "Pcgs([ f1, f2, f3 ]) -> [ f1*f2*f3, f1, f2 ]\n",
      "[ f1*f2*f3, f1, f2*f3 ]\t[ f1, f2, f1*f2 ]\t[ f1*f2*f3, f2, f1*f3 ]\n",
      "Pcgs([ f1, f2, f3 ]) -> [ f1*f2*f3, f2, f1 ]\n",
      "[ f1*f2*f3, f2, f1*f3 ]\t[ f2, f1, f1*f2 ]\t[ f1*f2*f3, f1, f2*f3 ]\n",
      "Pcgs([ f1, f2, f3 ]) -> [ f1, f1*f2*f3, f1*f3 ]\n",
      "[ f1, f1*f2*f3, f2*f3 ]\t[ f1*f2*f3, f1*f3, f2 ]\t[ f1, f1*f3, f3 ]\n",
      "Pcgs([ f1, f2, f3 ]) -> [ f1, f2*f3, f3 ]\n",
      "[ f1, f2*f3, f1*f2*f3 ]\t[ f2*f3, f3, f2 ]\t[ f1, f3, f1*f3 ]\n",
      "Pcgs([ f1, f2, f3 ]) -> [ f1, f1*f3, f1*f2*f3 ]\n",
      "[ f1, f1*f3, f3 ]\t[ f1*f3, f1*f2*f3, f2 ]\t[ f1, f1*f2*f3, f2*f3 ]\n",
      "Pcgs([ f1, f2, f3 ]) -> [ f1, f3, f2*f3 ]\n",
      "[ f1, f3, f1*f3 ]\t[ f3, f2*f3, f2 ]\t[ f1, f2*f3, f1*f2*f3 ]\n",
      "Pcgs([ f1, f2, f3 ]) -> [ f2, f1*f2*f3, f2*f3 ]\n",
      "[ f2, f1*f2*f3, f1*f3 ]\t[ f1*f2*f3, f2*f3, f1 ]\t[ f2, f2*f3, f3 ]\n",
      "Pcgs([ f1, f2, f3 ]) -> [ f2, f2*f3, f1*f2*f3 ]\n",
      "[ f2, f2*f3, f3 ]\t[ f2*f3, f1*f2*f3, f1 ]\t[ f2, f1*f2*f3, f1*f3 ]\n",
      "Pcgs([ f1, f2, f3 ]) -> [ f2, f1*f3, f3 ]\n",
      "[ f2, f1*f3, f1*f2*f3 ]\t[ f1*f3, f3, f1 ]\t[ f2, f3, f2*f3 ]\n",
      "Pcgs([ f1, f2, f3 ]) -> [ f2, f3, f1*f3 ]\n",
      "[ f2, f3, f2*f3 ]\t[ f3, f1*f3, f1 ]\t[ f2, f1*f3, f1*f2*f3 ]\n",
      "Pcgs([ f1, f2, f3 ]) -> [ f3, f2, f1*f3 ]\n",
      "[ f3, f2, f2*f3 ]\t[ f2, f1*f3, f1*f2*f3 ]\t[ f3, f1*f3, f1 ]\n",
      "Pcgs([ f1, f2, f3 ]) -> [ f3, f1, f2*f3 ]\n",
      "[ f3, f1, f1*f3 ]\t[ f1, f2*f3, f1*f2*f3 ]\t[ f3, f2*f3, f2 ]\n",
      "Pcgs([ f1, f2, f3 ]) -> [ f3, f2*f3, f1 ]\n",
      "[ f3, f2*f3, f2 ]\t[ f2*f3, f1, f1*f2*f3 ]\t[ f3, f1, f1*f3 ]\n",
      "Pcgs([ f1, f2, f3 ]) -> [ f3, f1*f3, f2 ]\n",
      "[ f3, f1*f3, f1 ]\t[ f1*f3, f2, f1*f2*f3 ]\t[ f3, f2, f2*f3 ]\n",
      "Pcgs([ f1, f2, f3 ]) -> [ f1*f3, f2, f3 ]\n",
      "[ f1*f3, f2, f1*f2*f3 ]\t[ f2, f3, f2*f3 ]\t[ f1*f3, f3, f1 ]\n",
      "Pcgs([ f1, f2, f3 ]) -> [ f1*f3, f1, f1*f2*f3 ]\n",
      "[ f1*f3, f1, f3 ]\t[ f1, f1*f2*f3, f2*f3 ]\t[ f1*f3, f1*f2*f3, f2 ]\n",
      "Pcgs([ f1, f2, f3 ]) -> [ f1*f3, f1*f2*f3, f1 ]\n",
      "[ f1*f3, f1*f2*f3, f2 ]\t[ f1*f2*f3, f1, f2*f3 ]\t[ f1*f3, f1, f3 ]\n",
      "Pcgs([ f1, f2, f3 ]) -> [ f1*f3, f3, f2 ]\n",
      "[ f1*f3, f3, f1 ]\t[ f3, f2, f2*f3 ]\t[ f1*f3, f2, f1*f2*f3 ]\n",
      "Pcgs([ f1, f2, f3 ]) -> [ f2*f3, f2, f1*f2*f3 ]\n",
      "[ f2*f3, f2, f3 ]\t[ f2, f1*f2*f3, f1*f3 ]\t[ f2*f3, f1*f2*f3, f1 ]\n",
      "Pcgs([ f1, f2, f3 ]) -> [ f2*f3, f1, f3 ]\n",
      "[ f2*f3, f1, f1*f2*f3 ]\t[ f1, f3, f1*f3 ]\t[ f2*f3, f3, f2 ]\n",
      "Pcgs([ f1, f2, f3 ]) -> [ f2*f3, f1*f2*f3, f2 ]\n",
      "[ f2*f3, f1*f2*f3, f1 ]\t[ f1*f2*f3, f2, f1*f3 ]\t[ f2*f3, f2, f3 ]\n",
      "Pcgs([ f1, f2, f3 ]) -> [ f2*f3, f3, f1 ]\n",
      "[ f2*f3, f3, f2 ]\t[ f3, f1, f1*f3 ]\t[ f2*f3, f1, f1*f2*f3 ]\n",
      "Pcgs([ f1, f2, f3 ]) -> [ f1*f2*f3, f2, f2*f3 ]\n",
      "[ f1*f2*f3, f2, f1*f3 ]\t[ f2, f2*f3, f3 ]\t[ f1*f2*f3, f2*f3, f1 ]\n",
      "Pcgs([ f1, f2, f3 ]) -> [ f1*f2*f3, f1, f1*f3 ]\n",
      "[ f1*f2*f3, f1, f2*f3 ]\t[ f1, f1*f3, f3 ]\t[ f1*f2*f3, f1*f3, f2 ]\n",
      "Pcgs([ f1, f2, f3 ]) -> [ f1*f2*f3, f2*f3, f2 ]\n",
      "[ f1*f2*f3, f2*f3, f1 ]\t[ f2*f3, f2, f3 ]\t[ f1*f2*f3, f2, f1*f3 ]\n",
      "Pcgs([ f1, f2, f3 ]) -> [ f1*f2*f3, f1*f3, f1 ]\n",
      "[ f1*f2*f3, f1*f3, f2 ]\t[ f1*f3, f1, f3 ]\t[ f1*f2*f3, f1, f2*f3 ]\n",
      "Pcgs([ f1, f2, f3 ]) -> [ f1, f1*f2*f3, f1*f2 ]\n",
      "[ f1, f1*f2*f3, f2*f3 ]\t[ f1*f2*f3, f1*f2, f3 ]\t[ f1, f1*f2, f2 ]\n",
      "Pcgs([ f1, f2, f3 ]) -> [ f1, f2*f3, f2 ]\n",
      "[ f1, f2*f3, f1*f2*f3 ]\t[ f2*f3, f2, f3 ]\t[ f1, f2, f1*f2 ]\n",
      "Pcgs([ f1, f2, f3 ]) -> [ f1, f1*f2, f1*f2*f3 ]\n"
     ]
    },
    {
     "name": "stdout",
     "output_type": "stream",
     "text": [
      "[ f1, f1*f2, f2 ]\t[ f1*f2, f1*f2*f3, f3 ]\t[ f1, f1*f2*f3, f2*f3 ]\n",
      "Pcgs([ f1, f2, f3 ]) -> [ f1, f2, f2*f3 ]\n",
      "[ f1, f2, f1*f2 ]\t[ f2, f2*f3, f3 ]\t[ f1, f2*f3, f1*f2*f3 ]\n",
      "Pcgs([ f1, f2, f3 ]) -> [ f2, f3, f1*f2 ]\n",
      "[ f2, f3, f2*f3 ]\t[ f3, f1*f2, f1*f2*f3 ]\t[ f2, f1*f2, f1 ]\n",
      "Pcgs([ f1, f2, f3 ]) -> [ f2, f1, f2*f3 ]\n",
      "[ f2, f1, f1*f2 ]\t[ f1, f2*f3, f1*f2*f3 ]\t[ f2, f2*f3, f3 ]\n",
      "Pcgs([ f1, f2, f3 ]) -> [ f2, f2*f3, f1 ]\n",
      "[ f2, f2*f3, f3 ]\t[ f2*f3, f1, f1*f2*f3 ]\t[ f2, f1, f1*f2 ]\n",
      "Pcgs([ f1, f2, f3 ]) -> [ f2, f1*f2, f3 ]\n",
      "[ f2, f1*f2, f1 ]\t[ f1*f2, f3, f1*f2*f3 ]\t[ f2, f3, f2*f3 ]\n",
      "Pcgs([ f1, f2, f3 ]) -> [ f3, f1*f2*f3, f2*f3 ]\n",
      "[ f3, f1*f2*f3, f1*f2 ]\t[ f1*f2*f3, f2*f3, f1 ]\t[ f3, f2*f3, f2 ]\n",
      "Pcgs([ f1, f2, f3 ]) -> [ f3, f2*f3, f1*f2*f3 ]\n",
      "[ f3, f2*f3, f2 ]\t[ f2*f3, f1*f2*f3, f1 ]\t[ f3, f1*f2*f3, f1*f2 ]\n",
      "Pcgs([ f1, f2, f3 ]) -> [ f3, f1*f2, f2 ]\n",
      "[ f3, f1*f2, f1*f2*f3 ]\t[ f1*f2, f2, f1 ]\t[ f3, f2, f2*f3 ]\n",
      "Pcgs([ f1, f2, f3 ]) -> [ f3, f2, f1*f2 ]\n",
      "[ f3, f2, f2*f3 ]\t[ f2, f1*f2, f1 ]\t[ f3, f1*f2, f1*f2*f3 ]\n",
      "Pcgs([ f1, f2, f3 ]) -> [ f1*f2, f3, f2 ]\n",
      "[ f1*f2, f3, f1*f2*f3 ]\t[ f3, f2, f2*f3 ]\t[ f1*f2, f2, f1 ]\n",
      "Pcgs([ f1, f2, f3 ]) -> [ f1*f2, f1*f2*f3, f1 ]\n",
      "[ f1*f2, f1*f2*f3, f3 ]\t[ f1*f2*f3, f1, f2*f3 ]\t[ f1*f2, f1, f2 ]\n",
      "Pcgs([ f1, f2, f3 ]) -> [ f1*f2, f1, f1*f2*f3 ]\n",
      "[ f1*f2, f1, f2 ]\t[ f1, f1*f2*f3, f2*f3 ]\t[ f1*f2, f1*f2*f3, f3 ]\n",
      "Pcgs([ f1, f2, f3 ]) -> [ f1*f2, f2, f3 ]\n",
      "[ f1*f2, f2, f1 ]\t[ f2, f3, f2*f3 ]\t[ f1*f2, f3, f1*f2*f3 ]\n",
      "Pcgs([ f1, f2, f3 ]) -> [ f2*f3, f3, f1*f2*f3 ]\n",
      "[ f2*f3, f3, f2 ]\t[ f3, f1*f2*f3, f1*f2 ]\t[ f2*f3, f1*f2*f3, f1 ]\n",
      "Pcgs([ f1, f2, f3 ]) -> [ f2*f3, f1*f2*f3, f3 ]\n",
      "[ f2*f3, f1*f2*f3, f1 ]\t[ f1*f2*f3, f3, f1*f2 ]\t[ f2*f3, f3, f2 ]\n",
      "Pcgs([ f1, f2, f3 ]) -> [ f2*f3, f1, f2 ]\n",
      "[ f2*f3, f1, f1*f2*f3 ]\t[ f1, f2, f1*f2 ]\t[ f2*f3, f2, f3 ]\n",
      "Pcgs([ f1, f2, f3 ]) -> [ f2*f3, f2, f1 ]\n",
      "[ f2*f3, f2, f3 ]\t[ f2, f1, f1*f2 ]\t[ f2*f3, f1, f1*f2*f3 ]\n",
      "Pcgs([ f1, f2, f3 ]) -> [ f1*f2*f3, f3, f2*f3 ]\n",
      "[ f1*f2*f3, f3, f1*f2 ]\t[ f3, f2*f3, f2 ]\t[ f1*f2*f3, f2*f3, f1 ]\n",
      "Pcgs([ f1, f2, f3 ]) -> [ f1*f2*f3, f1, f1*f2 ]\n",
      "[ f1*f2*f3, f1, f2*f3 ]\t[ f1, f1*f2, f2 ]\t[ f1*f2*f3, f1*f2, f3 ]\n",
      "Pcgs([ f1, f2, f3 ]) -> [ f1*f2*f3, f2*f3, f3 ]\n",
      "[ f1*f2*f3, f2*f3, f1 ]\t[ f2*f3, f3, f2 ]\t[ f1*f2*f3, f3, f1*f2 ]\n",
      "Pcgs([ f1, f2, f3 ]) -> [ f1*f2*f3, f1*f2, f1 ]\n",
      "[ f1*f2*f3, f1*f2, f3 ]\t[ f1*f2, f1, f2 ]\t[ f1*f2*f3, f1, f2*f3 ]\n",
      "Pcgs([ f1, f2, f3 ]) -> [ f1, f3, f1*f2 ]\n",
      "[ f1, f3, f1*f3 ]\t[ f3, f1*f2, f1*f2*f3 ]\t[ f1, f1*f2, f2 ]\n",
      "Pcgs([ f1, f2, f3 ]) -> [ f1, f2, f1*f3 ]\n",
      "[ f1, f2, f1*f2 ]\t[ f2, f1*f3, f1*f2*f3 ]\t[ f1, f1*f3, f3 ]\n",
      "Pcgs([ f1, f2, f3 ]) -> [ f1, f1*f3, f2 ]\n",
      "[ f1, f1*f3, f3 ]\t[ f1*f3, f2, f1*f2*f3 ]\t[ f1, f2, f1*f2 ]\n",
      "Pcgs([ f1, f2, f3 ]) -> [ f1, f1*f2, f3 ]\n",
      "[ f1, f1*f2, f2 ]\t[ f1*f2, f3, f1*f2*f3 ]\t[ f1, f3, f1*f3 ]\n",
      "Pcgs([ f1, f2, f3 ]) -> [ f2, f1*f2*f3, f1*f2 ]\n",
      "[ f2, f1*f2*f3, f1*f3 ]\t[ f1*f2*f3, f1*f2, f3 ]\t[ f2, f1*f2, f1 ]\n",
      "Pcgs([ f1, f2, f3 ]) -> [ f2, f1*f3, f1 ]\n",
      "[ f2, f1*f3, f1*f2*f3 ]\t[ f1*f3, f1, f3 ]\t[ f2, f1, f1*f2 ]\n",
      "Pcgs([ f1, f2, f3 ]) -> [ f2, f1*f2, f1*f2*f3 ]\n",
      "[ f2, f1*f2, f1 ]\t[ f1*f2, f1*f2*f3, f3 ]\t[ f2, f1*f2*f3, f1*f3 ]\n",
      "Pcgs([ f1, f2, f3 ]) -> [ f2, f1, f1*f3 ]\n",
      "[ f2, f1, f1*f2 ]\t[ f1, f1*f3, f3 ]\t[ f2, f1*f3, f1*f2*f3 ]\n",
      "Pcgs([ f1, f2, f3 ]) -> [ f3, f1*f2*f3, f1*f3 ]\n",
      "[ f3, f1*f2*f3, f1*f2 ]\t[ f1*f2*f3, f1*f3, f2 ]\t[ f3, f1*f3, f1 ]\n",
      "Pcgs([ f1, f2, f3 ]) -> [ f3, f1*f3, f1*f2*f3 ]\n",
      "[ f3, f1*f3, f1 ]\t[ f1*f3, f1*f2*f3, f2 ]\t[ f3, f1*f2*f3, f1*f2 ]\n",
      "Pcgs([ f1, f2, f3 ]) -> [ f3, f1*f2, f1 ]\n",
      "[ f3, f1*f2, f1*f2*f3 ]\t[ f1*f2, f1, f2 ]\t[ f3, f1, f1*f3 ]\n",
      "Pcgs([ f1, f2, f3 ]) -> [ f3, f1, f1*f2 ]\n",
      "[ f3, f1, f1*f3 ]\t[ f1, f1*f2, f2 ]\t[ f3, f1*f2, f1*f2*f3 ]\n",
      "Pcgs([ f1, f2, f3 ]) -> [ f1*f2, f1*f2*f3, f2 ]\n",
      "[ f1*f2, f1*f2*f3, f3 ]\t[ f1*f2*f3, f2, f1*f3 ]\t[ f1*f2, f2, f1 ]\n",
      "Pcgs([ f1, f2, f3 ]) -> [ f1*f2, f3, f1 ]\n",
      "[ f1*f2, f3, f1*f2*f3 ]\t[ f3, f1, f1*f3 ]\t[ f1*f2, f1, f2 ]\n",
      "Pcgs([ f1, f2, f3 ]) -> [ f1*f2, f2, f1*f2*f3 ]\n",
      "[ f1*f2, f2, f1 ]\t[ f2, f1*f2*f3, f1*f3 ]\t[ f1*f2, f1*f2*f3, f3 ]\n",
      "Pcgs([ f1, f2, f3 ]) -> [ f1*f2, f1, f3 ]\n",
      "[ f1*f2, f1, f2 ]\t[ f1, f3, f1*f3 ]\t[ f1*f2, f3, f1*f2*f3 ]\n",
      "Pcgs([ f1, f2, f3 ]) -> [ f1*f3, f1*f2*f3, f3 ]\n",
      "[ f1*f3, f1*f2*f3, f2 ]\t[ f1*f2*f3, f3, f1*f2 ]\t[ f1*f3, f3, f1 ]\n",
      "Pcgs([ f1, f2, f3 ]) -> [ f1*f3, f3, f1*f2*f3 ]\n",
      "[ f1*f3, f3, f1 ]\t[ f3, f1*f2*f3, f1*f2 ]\t[ f1*f3, f1*f2*f3, f2 ]\n",
      "Pcgs([ f1, f2, f3 ]) -> [ f1*f3, f2, f1 ]\n",
      "[ f1*f3, f2, f1*f2*f3 ]\t[ f2, f1, f1*f2 ]\t[ f1*f3, f1, f3 ]\n",
      "Pcgs([ f1, f2, f3 ]) -> [ f1*f3, f1, f2 ]\n",
      "[ f1*f3, f1, f3 ]\t[ f1, f2, f1*f2 ]\t[ f1*f3, f2, f1*f2*f3 ]\n",
      "Pcgs([ f1, f2, f3 ]) -> [ f1*f2*f3, f3, f1*f3 ]\n",
      "[ f1*f2*f3, f3, f1*f2 ]\t[ f3, f1*f3, f1 ]\t[ f1*f2*f3, f1*f3, f2 ]\n",
      "Pcgs([ f1, f2, f3 ]) -> [ f1*f2*f3, f2, f1*f2 ]\n",
      "[ f1*f2*f3, f2, f1*f3 ]\t[ f2, f1*f2, f1 ]\t[ f1*f2*f3, f1*f2, f3 ]\n",
      "Pcgs([ f1, f2, f3 ]) -> [ f1*f2*f3, f1*f3, f3 ]\n",
      "[ f1*f2*f3, f1*f3, f2 ]\t[ f1*f3, f3, f1 ]\t[ f1*f2*f3, f3, f1*f2 ]\n",
      "Pcgs([ f1, f2, f3 ]) -> [ f1*f2*f3, f1*f2, f2 ]\n",
      "[ f1*f2*f3, f1*f2, f3 ]\t[ f1*f2, f2, f1 ]\t[ f1*f2*f3, f2, f1*f3 ]\n",
      "Pcgs([ f1, f2, f3 ]) -> [ f1, f1*f3, f1*f2 ]\n",
      "[ f1, f1*f3, f3 ]\t[ f1*f3, f1*f2, f2*f3 ]\t[ f1, f1*f2, f2 ]\n",
      "Pcgs([ f1, f2, f3 ]) -> [ f1, f1*f2, f1*f3 ]\n",
      "[ f1, f1*f2, f2 ]\t[ f1*f2, f1*f3, f2*f3 ]\t[ f1, f1*f3, f3 ]\n",
      "Pcgs([ f1, f2, f3 ]) -> [ f1, f3, f2 ]\n",
      "[ f1, f3, f1*f3 ]\t[ f3, f2, f2*f3 ]\t[ f1, f2, f1*f2 ]\n",
      "Pcgs([ f1, f2, f3 ]) -> [ f1, f2, f3 ]\n",
      "[ f1, f2, f1*f2 ]\t[ f2, f3, f2*f3 ]\t[ f1, f3, f1*f3 ]\n",
      "Pcgs([ f1, f2, f3 ]) -> [ f2, f2*f3, f1*f2 ]\n",
      "[ f2, f2*f3, f3 ]\t[ f2*f3, f1*f2, f1*f3 ]\t[ f2, f1*f2, f1 ]\n",
      "Pcgs([ f1, f2, f3 ]) -> [ f2, f1*f2, f2*f3 ]\n",
      "[ f2, f1*f2, f1 ]\t[ f1*f2, f2*f3, f1*f3 ]\t[ f2, f2*f3, f3 ]\n",
      "Pcgs([ f1, f2, f3 ]) -> [ f2, f3, f1 ]\n",
      "[ f2, f3, f2*f3 ]\t[ f3, f1, f1*f3 ]\t[ f2, f1, f1*f2 ]\n",
      "Pcgs([ f1, f2, f3 ]) -> [ f2, f1, f3 ]\n",
      "[ f2, f1, f1*f2 ]\t[ f1, f3, f1*f3 ]\t[ f2, f3, f2*f3 ]\n",
      "Pcgs([ f1, f2, f3 ]) -> [ f3, f2*f3, f1*f3 ]\n",
      "[ f3, f2*f3, f2 ]\t[ f2*f3, f1*f3, f1*f2 ]\t[ f3, f1*f3, f1 ]\n",
      "Pcgs([ f1, f2, f3 ]) -> [ f3, f1*f3, f2*f3 ]\n",
      "[ f3, f1*f3, f1 ]\t[ f1*f3, f2*f3, f1*f2 ]\t[ f3, f2*f3, f2 ]\n",
      "Pcgs([ f1, f2, f3 ]) -> [ f3, f2, f1 ]\n",
      "[ f3, f2, f2*f3 ]\t[ f2, f1, f1*f2 ]\t[ f3, f1, f1*f3 ]\n",
      "Pcgs([ f1, f2, f3 ]) -> [ f3, f1, f2 ]\n",
      "[ f3, f1, f1*f3 ]\t[ f1, f2, f1*f2 ]\t[ f3, f2, f2*f3 ]\n",
      "Pcgs([ f1, f2, f3 ]) -> [ f1*f2, f2*f3, f2 ]\n",
      "[ f1*f2, f2*f3, f1*f3 ]\t[ f2*f3, f2, f3 ]\t[ f1*f2, f2, f1 ]\n",
      "Pcgs([ f1, f2, f3 ]) -> [ f1*f2, f1*f3, f1 ]\n",
      "[ f1*f2, f1*f3, f2*f3 ]\t[ f1*f3, f1, f3 ]\t[ f1*f2, f1, f2 ]\n",
      "Pcgs([ f1, f2, f3 ]) -> [ f1*f2, f2, f2*f3 ]\n",
      "[ f1*f2, f2, f1 ]\t[ f2, f2*f3, f3 ]\t[ f1*f2, f2*f3, f1*f3 ]\n",
      "Pcgs([ f1, f2, f3 ]) -> [ f1*f2, f1, f1*f3 ]\n",
      "[ f1*f2, f1, f2 ]\t[ f1, f1*f3, f3 ]\t[ f1*f2, f1*f3, f2*f3 ]\n",
      "Pcgs([ f1, f2, f3 ]) -> [ f1*f3, f2*f3, f3 ]\n",
      "[ f1*f3, f2*f3, f1*f2 ]\t[ f2*f3, f3, f2 ]\t[ f1*f3, f3, f1 ]\n",
      "Pcgs([ f1, f2, f3 ]) -> [ f1*f3, f1*f2, f1 ]\n",
      "[ f1*f3, f1*f2, f2*f3 ]\t[ f1*f2, f1, f2 ]\t[ f1*f3, f1, f3 ]\n",
      "Pcgs([ f1, f2, f3 ]) -> [ f1*f3, f3, f2*f3 ]\n",
      "[ f1*f3, f3, f1 ]\t[ f3, f2*f3, f2 ]\t[ f1*f3, f2*f3, f1*f2 ]\n",
      "Pcgs([ f1, f2, f3 ]) -> [ f1*f3, f1, f1*f2 ]\n",
      "[ f1*f3, f1, f3 ]\t[ f1, f1*f2, f2 ]\t[ f1*f3, f1*f2, f2*f3 ]\n",
      "Pcgs([ f1, f2, f3 ]) -> [ f2*f3, f1*f3, f3 ]\n",
      "[ f2*f3, f1*f3, f1*f2 ]\t[ f1*f3, f3, f1 ]\t[ f2*f3, f3, f2 ]\n",
      "Pcgs([ f1, f2, f3 ]) -> [ f2*f3, f1*f2, f2 ]\n",
      "[ f2*f3, f1*f2, f1*f3 ]\t[ f1*f2, f2, f1 ]\t[ f2*f3, f2, f3 ]\n",
      "Pcgs([ f1, f2, f3 ]) -> [ f2*f3, f3, f1*f3 ]\n",
      "[ f2*f3, f3, f2 ]\t[ f3, f1*f3, f1 ]\t[ f2*f3, f1*f3, f1*f2 ]\n",
      "Pcgs([ f1, f2, f3 ]) -> [ f2*f3, f2, f1*f2 ]\n",
      "[ f2*f3, f2, f3 ]\t[ f2, f1*f2, f1 ]\t[ f2*f3, f1*f2, f1*f3 ]\n",
      "--------------------\n",
      "--------------------\n",
      "D12 Group( [ f4, f2, f3 ] )\n",
      "--\n",
      "Pcgs([ f2, f3, f4 ]) -> [ f2, f2*f3, f4 ]\n",
      "[ f2, f4, f2*f4, f4^2, f2*f4^2 ]\t[ f2, f2*f3, f4 ]\t\n",
      "[ f2*f3, f4, f2*f3*f4, f4^2, f2*f3*f4^2 ]\n",
      "Pcgs([ f2, f3, f4 ]) -> [ f2, f3, f4 ]\n",
      "[ f2, f4, f2*f4, f4^2, f2*f4^2 ]\t[ f2, f3, f4 ]\t\n",
      "[ f3, f4, f3*f4, f4^2, f3*f4^2 ]\n",
      "--------------------\n",
      "--------------------\n",
      "D12 Group( [ f4, f1, f3 ] )\n",
      "--\n",
      "Pcgs([ f1, f3, f4 ]) -> [ f1, f1*f3, f4 ]\n",
      "[ f1, f4, f1*f4, f4^2, f1*f4^2 ]\t[ f1*f3, f4, f1*f3*f4, f4^2, f1*f3*f4^2 ]\t\n",
      "[ f1, f4, f1*f3 ]\n",
      "Pcgs([ f1, f3, f4 ]) -> [ f1, f3, f4 ]\n",
      "[ f1, f4, f1*f4, f4^2, f1*f4^2 ]\t[ f3, f4, f3*f4, f4^2, f3*f4^2 ]\t\n",
      "[ f1, f4, f3 ]\n",
      "--------------------\n",
      "--------------------\n",
      "D12 Group( [ f4, f1*f2, f3 ] )\n",
      "--\n",
      "Pcgs([ f1*f2, f3, f4 ]) -> [ f1*f2, f1*f2*f3, f4 ]\n",
      "[ f4, f1*f2, f4^2, f1*f2*f4, f1*f2*f4^2 ]\t[ f1*f2*f3, f4, f1*f2*f3*f4, f4^2, \n"
     ]
    },
    {
     "name": "stdout",
     "output_type": "stream",
     "text": [
      "  f1*f2*f3*f4^2 ]\t[ f1*f2*f3, f4, f1*f2*f3*f4, f4^2, f1*f2*f3*f4^2 ]\n",
      "Pcgs([ f1*f2, f3, f4 ]) -> [ f1*f2, f3, f4 ]\n",
      "[ f4, f1*f2, f4^2, f1*f2*f4, f1*f2*f4^2 ]\t[ f3, f4, f3*f4, f4^2, f3*f4^2 ]\t\n",
      "[ f3, f4, f3*f4, f4^2, f3*f4^2 ]\n",
      "--------------------\n",
      "--------------------\n",
      "C6 x C2 Group( [ f4, f1, f2 ] )\n",
      "--\n",
      "Pcgs([ f1, f2, f4 ]) -> [ f2, f1*f2, f4 ]\n",
      "[ f2, f1*f2, f4 ]\t[ f1*f2, f4, f1*f2*f4, f4^2, f1*f2*f4^2 ]\t\n",
      "[ f2, f4, f2*f4, f4^2, f2*f4^2 ]\n",
      "Pcgs([ f1, f2, f4 ]) -> [ f1*f2, f2, f4 ]\n",
      "[ f1*f2, f2, f4 ]\t[ f2, f4, f2*f4, f4^2, f2*f4^2 ]\t\n",
      "[ f1*f2, f4, f1*f2*f4, f4^2, f1*f2*f4^2 ]\n",
      "Pcgs([ f1, f2, f4 ]) -> [ f1, f1*f2, f4 ]\n",
      "[ f1, f1*f2, f4 ]\t[ f1*f2, f4, f1*f2*f4, f4^2, f1*f2*f4^2 ]\t\n",
      "[ f1, f4, f1*f4, f4^2, f1*f4^2 ]\n",
      "Pcgs([ f1, f2, f4 ]) -> [ f1*f2, f1, f4 ]\n",
      "[ f1*f2, f1, f4 ]\t[ f1, f4, f1*f4, f4^2, f1*f4^2 ]\t\n",
      "[ f1*f2, f4, f1*f2*f4, f4^2, f1*f2*f4^2 ]\n",
      "Pcgs([ f1, f2, f4 ]) -> [ f1, f2, f4 ]\n",
      "[ f1, f2, f4 ]\t[ f2, f4, f2*f4, f4^2, f2*f4^2 ]\t\n",
      "[ f1, f4, f1*f4, f4^2, f1*f4^2 ]\n",
      "Pcgs([ f1, f2, f4 ]) -> [ f2, f1, f4 ]\n",
      "[ f2, f1, f4 ]\t[ f1, f4, f1*f4, f4^2, f1*f4^2 ]\t\n",
      "[ f2, f4, f2*f4, f4^2, f2*f4^2 ]\n",
      "--------------------\n",
      "--------------------\n",
      "D12 Group( [ f4, f2, f1*f3 ] )\n",
      "--\n",
      "Pcgs([ f1*f3, f2, f4 ]) -> [ f1*f2*f3, f2, f4 ]\n",
      "[ f2, f4, f2*f4, f4^2, f2*f4^2 ]\t[ f2, f4, f2*f4, f4^2, f2*f4^2 ]\t\n",
      "[ f4, f1*f2*f3, f4^2, f1*f2*f3*f4, f1*f2*f3*f4^2 ]\n",
      "Pcgs([ f1*f3, f2, f4 ]) -> [ f1*f3, f2, f4 ]\n",
      "[ f2, f4, f2*f4, f4^2, f2*f4^2 ]\t[ f2, f4, f2*f4, f4^2, f2*f4^2 ]\t\n",
      "[ f4, f1*f3, f4^2, f1*f3*f4, f1*f3*f4^2 ]\n",
      "--------------------\n",
      "--------------------\n",
      "D12 Group( [ f4, f1, f2*f3 ] )\n",
      "--\n",
      "Pcgs([ f1, f2*f3, f4 ]) -> [ f1, f1*f2*f3, f4 ]\n",
      "[ f1, f4, f1*f4, f4^2, f1*f4^2 ]\t[ f4, f1*f2*f3, f4^2, f1*f2*f3*f4, \n",
      "  f1*f2*f3*f4^2 ]\t[ f1, f4, f1*f4, f4^2, f1*f4^2 ]\n",
      "Pcgs([ f1, f2*f3, f4 ]) -> [ f1, f2*f3, f4 ]\n",
      "[ f1, f4, f1*f4, f4^2, f1*f4^2 ]\t[ f4, f2*f3, f4^2, f2*f3*f4, f2*f3*f4^2 ]\t\n",
      "[ f1, f4, f1*f4, f4^2, f1*f4^2 ]\n",
      "--------------------\n",
      "--------------------\n",
      "D12 Group( [ f4, f1*f2, f1*f3 ] )\n",
      "--\n",
      "Pcgs([ f1*f2, f2*f3, f4 ]) -> [ f1*f2, f2*f3, f4 ]\n",
      "[ f4, f1*f2, f4^2, f1*f2*f4, f1*f2*f4^2 ]\t\n",
      "[ f4, f2*f3, f4^2, f2*f3*f4, f2*f3*f4^2 ]\t\n",
      "[ f4, f1*f3, f4^2, f1*f3*f4, f1*f3*f4^2 ]\n",
      "Pcgs([ f1*f2, f2*f3, f4 ]) -> [ f1*f2, f1*f3, f4 ]\n",
      "[ f4, f1*f2, f4^2, f1*f2*f4, f1*f2*f4^2 ]\t\n",
      "[ f4, f1*f3, f4^2, f1*f3*f4, f1*f3*f4^2 ]\t\n",
      "[ f4, f2*f3, f4^2, f2*f3*f4, f2*f3*f4^2 ]\n",
      "--------------------\n",
      "--------------------\n",
      "C2 x C2 x S3 Group( [ f4, f1, f2, f3 ] )\n",
      "--\n",
      "Pcgs([ f1, f2, f3, f4 ]) -> [ f1, f2, f1*f2*f3, f4 ]\n",
      "[ f1, f2, f4 ]\t[ f2, f1*f2*f3, f4 ]\t[ f1, f4, f1*f2*f3 ]\n",
      "Pcgs([ f1, f2, f3, f4 ]) -> [ f1, f1*f2, f2*f3, f4 ]\n",
      "[ f1, f1*f2, f4 ]\t[ f1*f2, f2*f3, f4 ]\t[ f1, f4, f2*f3 ]\n",
      "Pcgs([ f1, f2, f3, f4 ]) -> [ f2, f1, f1*f2*f3, f4 ]\n",
      "[ f2, f1, f4 ]\t[ f1, f1*f2*f3, f4 ]\t[ f2, f4, f1*f2*f3 ]\n",
      "Pcgs([ f1, f2, f3, f4 ]) -> [ f2, f1*f2, f1*f3, f4 ]\n",
      "[ f2, f1*f2, f4 ]\t[ f1*f2, f1*f3, f4 ]\t[ f2, f4, f1*f3 ]\n",
      "Pcgs([ f1, f2, f3, f4 ]) -> [ f1*f2, f1, f2*f3, f4 ]\n",
      "[ f1*f2, f1, f4 ]\t[ f1, f2*f3, f4 ]\t[ f1*f2, f4, f2*f3 ]\n",
      "Pcgs([ f1, f2, f3, f4 ]) -> [ f1*f2, f2, f1*f3, f4 ]\n",
      "[ f1*f2, f2, f4 ]\t[ f2, f1*f3, f4 ]\t[ f1*f2, f4, f1*f3 ]\n",
      "Pcgs([ f1, f2, f3, f4 ]) -> [ f1, f1*f2, f1*f2*f3, f4 ]\n",
      "[ f1, f1*f2, f4 ]\t[ f1*f2, f1*f2*f3, f4 ]\t[ f1, f4, f1*f2*f3 ]\n",
      "Pcgs([ f1, f2, f3, f4 ]) -> [ f1, f2, f2*f3, f4 ]\n",
      "[ f1, f2, f4 ]\t[ f2, f2*f3, f4 ]\t[ f1, f4, f2*f3 ]\n",
      "Pcgs([ f1, f2, f3, f4 ]) -> [ f2, f1, f2*f3, f4 ]\n",
      "[ f2, f1, f4 ]\t[ f1, f2*f3, f4 ]\t[ f2, f4, f2*f3 ]\n",
      "Pcgs([ f1, f2, f3, f4 ]) -> [ f2, f1*f2, f3, f4 ]\n",
      "[ f2, f1*f2, f4 ]\t[ f1*f2, f3, f4 ]\t[ f2, f4, f3 ]\n",
      "Pcgs([ f1, f2, f3, f4 ]) -> [ f1*f2, f1, f1*f2*f3, f4 ]\n",
      "[ f1*f2, f1, f4 ]\t[ f1, f1*f2*f3, f4 ]\t[ f1*f2, f4, f1*f2*f3 ]\n",
      "Pcgs([ f1, f2, f3, f4 ]) -> [ f1*f2, f2, f3, f4 ]\n",
      "[ f1*f2, f2, f4 ]\t[ f2, f3, f4 ]\t[ f1*f2, f4, f3 ]\n",
      "Pcgs([ f1, f2, f3, f4 ]) -> [ f1, f2, f1*f3, f4 ]\n",
      "[ f1, f2, f4 ]\t[ f2, f1*f3, f4 ]\t[ f1, f4, f1*f3 ]\n",
      "Pcgs([ f1, f2, f3, f4 ]) -> [ f1, f1*f2, f3, f4 ]\n",
      "[ f1, f1*f2, f4 ]\t[ f1*f2, f3, f4 ]\t[ f1, f4, f3 ]\n",
      "Pcgs([ f1, f2, f3, f4 ]) -> [ f2, f1*f2, f1*f2*f3, f4 ]\n",
      "[ f2, f1*f2, f4 ]\t[ f1*f2, f1*f2*f3, f4 ]\t[ f2, f4, f1*f2*f3 ]\n",
      "Pcgs([ f1, f2, f3, f4 ]) -> [ f2, f1, f1*f3, f4 ]\n",
      "[ f2, f1, f4 ]\t[ f1, f1*f3, f4 ]\t[ f2, f4, f1*f3 ]\n",
      "Pcgs([ f1, f2, f3, f4 ]) -> [ f1*f2, f2, f1*f2*f3, f4 ]\n",
      "[ f1*f2, f2, f4 ]\t[ f2, f1*f2*f3, f4 ]\t[ f1*f2, f4, f1*f2*f3 ]\n",
      "Pcgs([ f1, f2, f3, f4 ]) -> [ f1*f2, f1, f3, f4 ]\n",
      "[ f1*f2, f1, f4 ]\t[ f1, f3, f4 ]\t[ f1*f2, f4, f3 ]\n",
      "Pcgs([ f1, f2, f3, f4 ]) -> [ f1, f1*f2, f1*f3, f4 ]\n",
      "[ f1, f1*f2, f4 ]\t[ f1*f2, f1*f3, f4 ]\t[ f1, f4, f1*f3 ]\n",
      "Pcgs([ f1, f2, f3, f4 ]) -> [ f1, f2, f3, f4 ]\n",
      "[ f1, f2, f4 ]\t[ f2, f3, f4 ]\t[ f1, f4, f3 ]\n",
      "Pcgs([ f1, f2, f3, f4 ]) -> [ f2, f1*f2, f2*f3, f4 ]\n",
      "[ f2, f1*f2, f4 ]\t[ f1*f2, f2*f3, f4 ]\t[ f2, f4, f2*f3 ]\n",
      "Pcgs([ f1, f2, f3, f4 ]) -> [ f2, f1, f3, f4 ]\n",
      "[ f2, f1, f4 ]\t[ f1, f3, f4 ]\t[ f2, f4, f3 ]\n",
      "Pcgs([ f1, f2, f3, f4 ]) -> [ f1*f2, f2, f2*f3, f4 ]\n",
      "[ f1*f2, f2, f4 ]\t[ f2, f2*f3, f4 ]\t[ f1*f2, f4, f2*f3 ]\n",
      "Pcgs([ f1, f2, f3, f4 ]) -> [ f1*f2, f1, f1*f3, f4 ]\n",
      "[ f1*f2, f1, f4 ]\t[ f1, f1*f3, f4 ]\t[ f1*f2, f4, f1*f3 ]\n",
      "--------------------\n"
     ]
    }
   ],
   "source": [
    "for sg in List(ConjugacyClassesSubgroups(AutA),Representative) do\n",
    "    # for each conjugacy class of subgroups of AutA take sg a representative\n",
    "    Print(\"--------------------\\n\");\n",
    "    # print its structure and generators\n",
    "    Print(StructureDescription(sg),\" \",sg,\"\\n\");\n",
    "    gens := GeneratorsOfGroup(sg);\n",
    "    norm := Normalizer(AutA,sg);\n",
    "    #Print(\"norm:\",Elements(norm),\"\\n\");\n",
    "    # consider the group of automorphisms of the subgroup. We have to identify the classes modulo conjugations.\n",
    "    Autsg := AutomorphismGroup(sg);\n",
    "    ccAutsg := [];\n",
    "    for phi in Elements(Autsg) do\n",
    "        # for every automorphism of the subgroup, we are gonna find its equivalents modulo conjugation\n",
    "        twisteds := [];\n",
    "        for x in norm do\n",
    "            # for every x that normalizes the subgroup, we conjugate the automorphism by x\n",
    "            twisted := GroupHomomorphismByImages(sg,sg,gens,List(gens,t-> x*Image(phi,t)*x^(-1)));\n",
    "            Add(twisteds, twisted);\n",
    "        od;\n",
    "        # We add the conjugacy class of phi, removing duplicates\n",
    "        Add(ccAutsg,Set(twisteds));\n",
    "    od;\n",
    "    Print(\"--\\n\");\n",
    "    # We consider the set of conjugacy classes, removing duplicates\n",
    "    ccAutsgmod := Set(ccAutsg);\n",
    "    for cl in ccAutsgmod do\n",
    "        # For each conjugacy class, we find the simplest representative\n",
    "        first := true;\n",
    "        for el in cl do \n",
    "            if first then\n",
    "                shorter := el;\n",
    "                first := false;\n",
    "            elif Length(PrintString(el)) < Length(PrintString(shorter)) then\n",
    "                shorter := el;\n",
    "                # Print(el,\"\\n\");\n",
    "            fi;\n",
    "        od;\n",
    "        # For this simplest representative we display the morphism \n",
    "        # and the image under it of the subgroups corresponding to K_v2, K_v3 and K_u \n",
    "        Print(shorter,\"\\n\");\n",
    "        Print(GeneratorsOfGroup(Image(shorter,Intersection(sgV2,sg))),\"\\t\");\n",
    "        Print(GeneratorsOfGroup(Image(shorter,Intersection(sgV3,sg))),\"\\t\");\n",
    "        Print(GeneratorsOfGroup(Image(shorter,Intersection(sgU,sg))),\"\\n\");\n",
    "    od;\n",
    "    Print(\"--------------------\\n\");\n",
    "od;"
   ]
  },
  {
   "cell_type": "code",
   "execution_count": 37,
   "metadata": {},
   "outputs": [
    {
     "data": {
      "text/plain": [
       "168"
      ]
     },
     "execution_count": 37,
     "metadata": {
      "text/plain": ""
     },
     "output_type": "execute_result"
    }
   ],
   "source": [
    "Size(AutomorphismGroup(DirectProduct(C2A,C2A,C2A)));"
   ]
  },
  {
   "cell_type": "code",
   "execution_count": 39,
   "metadata": {},
   "outputs": [
    {
     "name": "stdout",
     "output_type": "stream",
     "text": [
      "--------------------\n",
      "C2 x C2 x S3 Group( [ f1, f2, f3, f4 ] )\n",
      "--\n",
      "Pcgs([ f1, f2, f3, f4 ]) -> [ f1, f2, f1*f2*f3, f4 ]\n",
      "[ f1, f2, f4 ]1\t[ f2, f1*f2*f3, f4 ]5\t[ f1, f4, f1*f2*f3 ]3\n",
      "Pcgs([ f1, f2, f3, f4 ]) -> [ f1, f1*f2, f2*f3, f4 ]\n",
      "[ f1, f1*f2, f4 ]1\t[ f1*f2, f2*f3, f4 ]7\t[ f1, f4, f2*f3 ]3\n",
      "Pcgs([ f1, f2, f3, f4 ]) -> [ f2, f1, f1*f2*f3, f4 ]\n",
      "[ f2, f1, f4 ]1\t[ f1, f1*f2*f3, f4 ]3\t[ f2, f4, f1*f2*f3 ]5\n",
      "Pcgs([ f1, f2, f3, f4 ]) -> [ f2, f1*f2, f1*f3, f4 ]\n",
      "[ f2, f1*f2, f4 ]1\t[ f1*f2, f1*f3, f4 ]7\t[ f2, f4, f1*f3 ]5\n",
      "Pcgs([ f1, f2, f3, f4 ]) -> [ f1*f2, f1, f2*f3, f4 ]\n",
      "[ f1*f2, f1, f4 ]1\t[ f1, f2*f3, f4 ]3\t[ f1*f2, f4, f2*f3 ]7\n",
      "Pcgs([ f1, f2, f3, f4 ]) -> [ f1*f2, f2, f1*f3, f4 ]\n",
      "[ f1*f2, f2, f4 ]1\t[ f2, f1*f3, f4 ]5\t[ f1*f2, f4, f1*f3 ]7\n",
      "Pcgs([ f1, f2, f3, f4 ]) -> [ f1, f1*f2, f1*f2*f3, f4 ]\n",
      "[ f1, f1*f2, f4 ]1\t[ f1*f2, f1*f2*f3, f4 ]6\t[ f1, f4, f1*f2*f3 ]3\n",
      "Pcgs([ f1, f2, f3, f4 ]) -> [ f1, f2, f2*f3, f4 ]\n",
      "[ f1, f2, f4 ]1\t[ f2, f2*f3, f4 ]4\t[ f1, f4, f2*f3 ]3\n",
      "Pcgs([ f1, f2, f3, f4 ]) -> [ f2, f1, f2*f3, f4 ]\n",
      "[ f2, f1, f4 ]1\t[ f1, f2*f3, f4 ]3\t[ f2, f4, f2*f3 ]4\n",
      "Pcgs([ f1, f2, f3, f4 ]) -> [ f2, f1*f2, f3, f4 ]\n",
      "[ f2, f1*f2, f4 ]1\t[ f1*f2, f3, f4 ]6\t[ f2, f4, f3 ]4\n",
      "Pcgs([ f1, f2, f3, f4 ]) -> [ f1*f2, f1, f1*f2*f3, f4 ]\n",
      "[ f1*f2, f1, f4 ]1\t[ f1, f1*f2*f3, f4 ]3\t[ f1*f2, f4, f1*f2*f3 ]6\n",
      "Pcgs([ f1, f2, f3, f4 ]) -> [ f1*f2, f2, f3, f4 ]\n",
      "[ f1*f2, f2, f4 ]1\t[ f2, f3, f4 ]4\t[ f1*f2, f4, f3 ]6\n",
      "Pcgs([ f1, f2, f3, f4 ]) -> [ f1, f2, f1*f3, f4 ]\n",
      "[ f1, f2, f4 ]1\t[ f2, f1*f3, f4 ]5\t[ f1, f4, f1*f3 ]2\n",
      "Pcgs([ f1, f2, f3, f4 ]) -> [ f1, f1*f2, f3, f4 ]\n",
      "[ f1, f1*f2, f4 ]1\t[ f1*f2, f3, f4 ]6\t[ f1, f4, f3 ]2\n",
      "Pcgs([ f1, f2, f3, f4 ]) -> [ f2, f1*f2, f1*f2*f3, f4 ]\n",
      "[ f2, f1*f2, f4 ]1\t[ f1*f2, f1*f2*f3, f4 ]6\t[ f2, f4, f1*f2*f3 ]5\n",
      "Pcgs([ f1, f2, f3, f4 ]) -> [ f2, f1, f1*f3, f4 ]\n",
      "[ f2, f1, f4 ]1\t[ f1, f1*f3, f4 ]2\t[ f2, f4, f1*f3 ]5\n",
      "Pcgs([ f1, f2, f3, f4 ]) -> [ f1*f2, f2, f1*f2*f3, f4 ]\n",
      "[ f1*f2, f2, f4 ]1\t[ f2, f1*f2*f3, f4 ]5\t[ f1*f2, f4, f1*f2*f3 ]6\n",
      "Pcgs([ f1, f2, f3, f4 ]) -> [ f1*f2, f1, f3, f4 ]\n",
      "[ f1*f2, f1, f4 ]1\t[ f1, f3, f4 ]2\t[ f1*f2, f4, f3 ]6\n",
      "Pcgs([ f1, f2, f3, f4 ]) -> [ f1, f1*f2, f1*f3, f4 ]\n",
      "[ f1, f1*f2, f4 ]1\t[ f1*f2, f1*f3, f4 ]7\t[ f1, f4, f1*f3 ]2\n",
      "Pcgs([ f1, f2, f3, f4 ]) -> [ f1, f2, f3, f4 ]\n",
      "[ f1, f2, f4 ]1\t[ f2, f3, f4 ]4\t[ f1, f4, f3 ]2\n",
      "Pcgs([ f1, f2, f3, f4 ]) -> [ f2, f1*f2, f2*f3, f4 ]\n",
      "[ f2, f1*f2, f4 ]1\t[ f1*f2, f2*f3, f4 ]7\t[ f2, f4, f2*f3 ]4\n",
      "Pcgs([ f1, f2, f3, f4 ]) -> [ f2, f1, f3, f4 ]\n",
      "[ f2, f1, f4 ]1\t[ f1, f3, f4 ]2\t[ f2, f4, f3 ]4\n",
      "Pcgs([ f1, f2, f3, f4 ]) -> [ f1*f2, f2, f2*f3, f4 ]\n",
      "[ f1*f2, f2, f4 ]1\t[ f2, f2*f3, f4 ]4\t[ f1*f2, f4, f2*f3 ]7\n",
      "Pcgs([ f1, f2, f3, f4 ]) -> [ f1*f2, f1, f1*f3, f4 ]\n",
      "[ f1*f2, f1, f4 ]1\t[ f1, f1*f3, f4 ]2\t[ f1*f2, f4, f1*f3 ]7\n",
      "--------------------\n"
     ]
    },
    {
     "data": {
      "text/plain": [
       "[ <group of size 12 with 3 generators>, <group of size 12 with 3 generators>, <group of size 12 with 3 generators>, <group of size 12 with 3 generators>, <group of size 12 with 3 generators>, <group of size 12 with 3 generators>, <group of size 12 with 3 generators> ]"
      ]
     },
     "execution_count": 38,
     "metadata": {
      "text/plain": ""
     },
     "output_type": "execute_result"
    }
   ],
   "source": [
    "# For the case that the subgroup is the full group, we identify the subgroups (of index 2)\n",
    "# fixing the fields K_v2, K_v3 and K_u \n",
    "quads := SubgroupsOfIndexTwo(AutA);\n",
    "for sg in [AutA] do\n",
    "    Print(\"--------------------\\n\");\n",
    "    Print(StructureDescription(sg),\" \",sg,\"\\n\");\n",
    "    gens := GeneratorsOfGroup(sg);\n",
    "    norm := Normalizer(AutA,sg);\n",
    "    Autsg := AutomorphismGroup(sg);\n",
    "    ccAutsg := [];\n",
    "    for phi in Elements(Autsg) do\n",
    "        twisteds := [];\n",
    "        for x in norm do\n",
    "            twisted := GroupHomomorphismByImages(sg,sg,gens,List(gens,t-> x*Image(phi,t)*x^(-1)));\n",
    "            Add(twisteds, twisted);\n",
    "        od;\n",
    "        Add(ccAutsg,Set(twisteds));\n",
    "    od;\n",
    "    Print(\"--\\n\");\n",
    "    ccAutsgmod := Set(ccAutsg);\n",
    "    for cl in ccAutsgmod do\n",
    "        first := true;\n",
    "        for el in cl do \n",
    "            if first then\n",
    "                shorter := el;\n",
    "                first := false;\n",
    "            elif Length(PrintString(el)) < Length(PrintString(shorter)) then\n",
    "                shorter := el;\n",
    "            fi;\n",
    "        od;\n",
    "        Print(shorter,\"\\n\");\n",
    "        Print(GeneratorsOfGroup(Image(shorter,Intersection(sgV2,sg))),Position(quads,Image(shorter,sgV2)),\"\\t\");\n",
    "        Print(GeneratorsOfGroup(Image(shorter,Intersection(sgV3,sg))),Position(quads,Image(shorter,sgV3)),\"\\t\");\n",
    "        Print(GeneratorsOfGroup(Image(shorter,Intersection(sgU,sg))),Position(quads,Image(shorter,sgU)),\"\\n\");\n",
    "    od;\n",
    "    Print(\"--------------------\\n\");\n",
    "od;"
   ]
  },
  {
   "cell_type": "code",
   "execution_count": 40,
   "metadata": {},
   "outputs": [
    {
     "name": "stdout",
     "output_type": "stream",
     "text": [
      "C6 x C2\tC6\tC6\tC6\tC6\tC6\tC6\t\n",
      "C6\tD12\tC6\tS3\tS3\tS3\tS3\t\n",
      "C6\tC6\tD12\tS3\tS3\tS3\tS3\t\n",
      "C6\tS3\tS3\tD12\tC6\tS3\tS3\t\n",
      "C6\tS3\tS3\tC6\tD12\tS3\tS3\t\n",
      "C6\tS3\tS3\tS3\tS3\tD12\tC6\t\n",
      "C6\tS3\tS3\tS3\tS3\tC6\tD12\t\n"
     ]
    }
   ],
   "source": [
    "# We find that the pairs of subgroups of index 2 corresponding to K_v3 and K_u \n",
    "# that appear in the computations above are exactly those pairs whose intersection is dihedral\n",
    "for q1 in quads do\n",
    "    for q2 in quads do\n",
    "        Print(StructureDescription(Intersection(q1,q2)),\"\\t\");\n",
    "    od;\n",
    "    Print(\"\\n\");\n",
    "od;"
   ]
  },
  {
   "cell_type": "code",
   "execution_count": null,
   "metadata": {},
   "outputs": [],
   "source": []
  }
 ],
 "metadata": {
  "kernelspec": {
   "display_name": "GAP 4",
   "language": "gap",
   "name": "gap-4"
  },
  "language_info": {
   "codemirror_mode": "gap",
   "file_extension": ".g",
   "mimetype": "text/x-gap",
   "name": "GAP 4",
   "nbconvert_exporter": "",
   "pygments_lexer": "gap",
   "version": "4.9.2"
  }
 },
 "nbformat": 4,
 "nbformat_minor": 2
}
